{
 "cells": [
  {
   "cell_type": "code",
   "execution_count": 7,
   "id": "569ae4bb-f80d-46cf-a6fb-e2454f649dbf",
   "metadata": {},
   "outputs": [
    {
     "name": "stdout",
     "output_type": "stream",
     "text": [
      "Cold: [5, 9, 4]\n",
      "Mild: [10, 11, 13]\n",
      "Comfortable: [18, 19, 15]\n"
     ]
    }
   ],
   "source": [
    "# (7)TASK 1\n",
    "\n",
    "temperatures = [5, 10, 11, 9, 13, 18, 4, 19, 20, 15]\n",
    "\n",
    "cold = []        \n",
    "mild = []       \n",
    "comfortable = [] \n",
    "\n",
    "for temp in temperatures:\n",
    "    if temp < 10:\n",
    "        cold.append(temp) \n",
    "    elif 10 <= temp < 15:\n",
    "        mild.append(temp)\n",
    "    elif 15 <= temp < 20:\n",
    "        comfortable.append(temp) \n",
    "\n",
    "# Print results\n",
    "print(\"Cold:\", cold)\n",
    "print(\"Mild:\", mild)\n",
    "print(\"Comfortable:\", comfortable)\n"
   ]
  },
  {
   "cell_type": "code",
   "execution_count": 1,
   "id": "a56c3d4e-778d-4a70-940a-bd47fff3d448",
   "metadata": {},
   "outputs": [
    {
     "name": "stdout",
     "output_type": "stream",
     "text": [
      "Cold: [5, 9, 4]\n",
      "Mild: [10, 11, 13]\n",
      "Comfortable: [18, 19, 15]\n",
      "Number of times it was cold: 3\n",
      "Number of times it was mild: 3\n",
      "Number of times it was comfortable: 3\n"
     ]
    }
   ],
   "source": [
    "#TASK 2\n",
    "\n",
    "temperatures = [5, 10, 11, 9, 13, 18, 4, 19, 28, 15]\n",
    "\n",
    "\n",
    "cold = []     \n",
    "mild = []         \n",
    "comfortable = [] \n",
    "\n",
    "\n",
    "for temp in temperatures:\n",
    "    if temp < 10:\n",
    "        cold.append(temp)\n",
    "    elif 10 <= temp < 15:\n",
    "        mild.append(temp) \n",
    "    elif 15 <= temp < 20:\n",
    "        comfortable.append(temp)  \n",
    "\n",
    "\n",
    "print(\"Cold:\", cold)\n",
    "print(\"Mild:\", mild)\n",
    "print(\"Comfortable:\", comfortable)\n",
    "\n",
    "times_cold = len(cold)      \n",
    "times_mild = len(mild)       \n",
    "times_comfortable = len(comfortable)        \n",
    "\n",
    "print(\"Number of times it was cold:\", times_cold)\n",
    "print(\"Number of times it was mild:\", times_mild)\n",
    "print(\"Number of times it was comfortable:\", times_comfortable)\n"
   ]
  },
  {
   "cell_type": "code",
   "execution_count": 3,
   "id": "b741bfb0-7dc5-464c-84ab-5043084928d2",
   "metadata": {},
   "outputs": [
    {
     "name": "stdout",
     "output_type": "stream",
     "text": [
      "Temperatures in Fahrenheit: [35.6, 51.8, 64.4, 48.2, 57.2, 66.2, 37.4, 71.6, 50.0, 60.8]\n"
     ]
    }
   ],
   "source": [
    "#TASK 3\n",
    "\n",
    "temperatures = [2, 11, 18, 9, 14, 19, 3, 22, 10, 16]\n",
    "\n",
    "\n",
    "temperatures_fahrenheit = []\n",
    "\n",
    "\n",
    "for temp in temperatures:\n",
    "    fahrenheit = (temp * 9/5) + 32  \n",
    "    temperatures_fahrenheit.append(fahrenheit)\n",
    "\n",
    "print(\"Temperatures in Fahrenheit:\", temperatures_fahrenheit)\n"
   ]
  },
  {
   "cell_type": "code",
   "execution_count": 1,
   "id": "ad6740d8-a03e-40fb-a487-4721771cfc52",
   "metadata": {},
   "outputs": [
    {
     "name": "stdout",
     "output_type": "stream",
     "text": [
      "Average Day-Time Temperature: 14.38°C\n",
      "Night temperatures: [5, 6, 5, 4, 3, 3, 4, 5]\n",
      "Evening temperatures: [6, 10, 12, 14, 15, 16, 14, 12]\n",
      "Day temperatures: [18, 19, 17, 16, 15, 12, 10, 8]\n"
     ]
    }
   ],
   "source": [
    "#TASK 4\n",
    "\n",
    "temperatures = [5, 6, 5, 4, 3, 3, 4, 5, 6, 10, 12, 14, 15, 16, 14, 12, 18, 19, 17, 16, 15, 12, 10, 8]\n",
    "\n",
    "night = []  # 00-08\n",
    "evening = []  # 08-16\n",
    "day = []  # 16-24\n",
    "\n",
    "for i in range(len(temperatures)):\n",
    "    if 0 <= i < 8:  # Night\n",
    "        night.append(temperatures[i])\n",
    "    elif 8 <= i < 16:  # Evening\n",
    "        evening.append(temperatures[i])\n",
    "    elif 16 <= i < 24:  # Day\n",
    "        day.append(temperatures[i])\n",
    "\n",
    "if day:\n",
    "    avg_day_temp = sum(day) / len(day)\n",
    "    print(f\"Average Day-Time Temperature: {avg_day_temp:.2f}°C\")\n",
    "else:\n",
    "    print(\"No day-time data available.\")\n",
    "\n",
    "print(\"Night temperatures:\", night)\n",
    "print(\"Evening temperatures:\", evening)\n",
    "print(\"Day temperatures:\", day)\n",
    "\n"
   ]
  },
  {
   "cell_type": "code",
   "execution_count": 2,
   "id": "af5ba88d-8ba1-4a92-adf2-89fea1a62343",
   "metadata": {},
   "outputs": [
    {
     "name": "stdout",
     "output_type": "stream",
     "text": [
      "The total sum of all numbers in the nested list is: 36\n"
     ]
    }
   ],
   "source": [
    "# (8) TASK 1\n",
    "def sum_nested_list(nested_list):\n",
    "    total_sum = 0  \n",
    "    \n",
    "    for element in nested_list:\n",
    "        if isinstance(element, list):\n",
    "            total_sum += sum_nested_list(element)\n",
    "        else:  \n",
    "            total_sum += element\n",
    "    \n",
    "    return total_sum\n",
    "\n",
    "nested_list = [1, [2, [3, 4], 5], 6, [7, 8]]\n",
    "result = sum_nested_list(nested_list)\n",
    "print(f\"The total sum of all numbers in the nested list is: {result}\")\n"
   ]
  },
  {
   "cell_type": "code",
   "execution_count": 3,
   "id": "146593b4-b1c0-402e-abdf-3d0014a607a1",
   "metadata": {},
   "outputs": [
    {
     "name": "stdout",
     "output_type": "stream",
     "text": [
      "['abc', 'acb', 'bac', 'bca', 'cab', 'cba']\n",
      "['aab', 'aba', 'baa']\n"
     ]
    }
   ],
   "source": [
    "# TASK 2\n",
    "def generate_permutations(s):\n",
    "    def backtrack(start, end, current_string):\n",
    "        \n",
    "        if start == end:\n",
    "            result.add(\"\".join(current_string))\n",
    "        else:\n",
    "            for i in range(start, end):\n",
    "              \n",
    "                current_string[start], current_string[i] = current_string[i], current_string[start]\n",
    "               \n",
    "                backtrack(start + 1, end, current_string)\n",
    "                \n",
    "                current_string[start], current_string[i] = current_string[i], current_string[start]\n",
    "\n",
    "    result = set()  \n",
    "    generate_list = list(s)\n",
    "    backtrack(0, len(generate_list), generate_list)\n",
    "\n",
    "    return sorted(result)\n",
    "\n",
    "print(generate_permutations(\"abc\"))\n",
    "print(generate_permutations(\"aab\"))\n"
   ]
  },
  {
   "cell_type": "code",
   "execution_count": 4,
   "id": "4fc8875d-8903-4b95-b7b5-472bc6ba11b7",
   "metadata": {},
   "outputs": [
    {
     "name": "stdout",
     "output_type": "stream",
     "text": [
      "Total directory size: 900 KB\n"
     ]
    }
   ],
   "source": [
    "# TASK 3\n",
    "def calculate_directory_size(directory):\n",
    "    total_size = 0\n",
    "    \n",
    "    for item, value in directory.items():\n",
    "        if isinstance(value, int): \n",
    "            total_size += value\n",
    "        elif isinstance(value, dict): \n",
    "            total_size += calculate_directory_size(value) \n",
    "    \n",
    "    return total_size\n",
    "\n",
    "sample_directory = {\n",
    "    \"file1.txt\": 100,\n",
    "    \"file2.txt\": 200,\n",
    "    \"subdir1\": {\n",
    "        \"file3.txt\": 150,\n",
    "        \"file4.txt\": 50,\n",
    "        \"subsubdir1\": {\n",
    "            \"file5.txt\": 300\n",
    "        }\n",
    "    },\n",
    "    \"subdir2\": {\n",
    "        \"file6.txt\": 100\n",
    "    }\n",
    "}\n",
    "\n",
    "total_size = calculate_directory_size(sample_directory)\n",
    "print(f\"Total directory size: {total_size} KB\")\n"
   ]
  },
  {
   "cell_type": "code",
   "execution_count": 5,
   "id": "c03197b8-041d-4fa4-89a0-5112e8962e92",
   "metadata": {},
   "outputs": [
    {
     "name": "stdout",
     "output_type": "stream",
     "text": [
      "The length of the longest common subsequence is: 3\n"
     ]
    }
   ],
   "source": [
    "# TASK 4\n",
    "def longest_common_subsequence(s1, s2):\n",
    "    \n",
    "    len_s1 = len(s1)\n",
    "    len_s2 = len(s2)\n",
    "\n",
    "    dp = [[0] * (len_s2 + 1) for _ in range(len_s1 + 1)]\n",
    "    \n",
    "    for i in range(1, len_s1 + 1):\n",
    "        for j in range(1, len_s2 + 1):\n",
    "            if s1[i - 1] == s2[j - 1]:\n",
    "                dp[i][j] = dp[i - 1][j - 1] + 1 \n",
    "            else:\n",
    "                dp[i][j] = max(dp[i - 1][j], dp[i][j - 1]) \n",
    "    \n",
    "    return dp[len_s1][len_s2]\n",
    "\n",
    "s1 = \"abcde\"\n",
    "s2 = \"ace\"\n",
    "result = longest_common_subsequence(s1, s2)\n",
    "print(f\"The length of the longest common subsequence is: {result}\")\n"
   ]
  },
  {
   "cell_type": "code",
   "execution_count": 7,
   "id": "13f43275-8d2a-4c74-b770-5ea356b3190c",
   "metadata": {},
   "outputs": [
    {
     "name": "stdout",
     "output_type": "stream",
     "text": [
      "The maximum value that can be carried is: 9\n"
     ]
    }
   ],
   "source": [
    "# TASK 5\n",
    "def knapsack(weights, values, capacity):\n",
    " \n",
    "    n = len(weights)\n",
    "    \n",
    "    dp = [[0] * (capacity + 1) for _ in range(n + 1)]\n",
    "    \n",
    "    for i in range(1, n + 1):\n",
    "        for w in range(1, capacity + 1):\n",
    "            if weights[i - 1] <= w:\n",
    "                \n",
    "                dp[i][w] = max(dp[i - 1][w], dp[i - 1][w - weights[i - 1]] + values[i - 1])\n",
    "            else:\n",
    "                \n",
    "                dp[i][w] = dp[i - 1][w]\n",
    "    \n",
    "    return dp[n][capacity]\n",
    "\n",
    "weights = [1, 3, 4, 5]\n",
    "values = [1, 4, 5, 7]\n",
    "capacity = 7\n",
    "\n",
    "result = knapsack(weights, values, capacity)\n",
    "print(f\"The maximum value that can be carried is: {result}\")\n"
   ]
  },
  {
   "cell_type": "code",
   "execution_count": null,
   "id": "dc8e5160-34de-4ab3-aea9-89728388a259",
   "metadata": {},
   "outputs": [],
   "source": [
    "#TASK 1\n",
    "def min_coins(coins, amount):\n",
    "    \n",
    "    dp = [float('inf')] * (amount + 1)\n",
    "    dp[0] = 0  \n",
    "    \n",
    "    for coin in coins:\n",
    "        for i in range(coin, amount + 1):\n",
    "            dp[i] = min(dp[i], dp[i - coin] + 1)\n",
    "    \n",
    "    return dp[amount] if dp[amount] != float('inf') else -1\n",
    "\n",
    "coins = [1, 2, 5]\n",
    "amount = 11\n",
    "result = min_coins(coins, amount)\n",
    "print(f\"Minimum number of coins needed: {result}\")\n"
   ]
  }
 ],
 "metadata": {
  "kernelspec": {
   "display_name": "Python 3 (ipykernel)",
   "language": "python",
   "name": "python3"
  },
  "language_info": {
   "codemirror_mode": {
    "name": "ipython",
    "version": 3
   },
   "file_extension": ".py",
   "mimetype": "text/x-python",
   "name": "python",
   "nbconvert_exporter": "python",
   "pygments_lexer": "ipython3",
   "version": "3.12.0"
  }
 },
 "nbformat": 4,
 "nbformat_minor": 5
}
