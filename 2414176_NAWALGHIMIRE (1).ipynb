{
  "nbformat": 4,
  "nbformat_minor": 0,
  "metadata": {
    "colab": {
      "provenance": []
    },
    "kernelspec": {
      "name": "python3",
      "display_name": "Python 3"
    },
    "language_info": {
      "name": "python"
    }
  },
  "cells": [
    {
      "cell_type": "markdown",
      "source": [
        " 3.1 Problem- 1: Getting Started with Data Exploration- Some Warm up\n",
        " Exercises:\n",
        " 1. Data Exploration and Understanding:\n",
        " • Dataset Overview:\n",
        " 1. Load the dataset and display the first 10 rows.\n",
        " 2. Identify the number of rows and columns in the dataset.\n",
        " 3. List all the columns and their data types."
      ],
      "metadata": {
        "id": "5lEiwn_LEDV_"
      }
    },
    {
      "cell_type": "code",
      "source": [
        "from google.colab import drive\n",
        "drive.mount('/content/drive')"
      ],
      "metadata": {
        "id": "ghjgzwRMJus8",
        "colab": {
          "base_uri": "https://localhost:8080/"
        },
        "outputId": "590488d6-d36b-4972-88c5-c101f9d9b8df"
      },
      "execution_count": 140,
      "outputs": [
        {
          "output_type": "stream",
          "name": "stdout",
          "text": [
            "Drive already mounted at /content/drive; to attempt to forcibly remount, call drive.mount(\"/content/drive\", force_remount=True).\n"
          ]
        }
      ]
    },
    {
      "cell_type": "code",
      "source": [
        "#PROBLEM 1\n",
        "#DATA OVERVIEW\n",
        "import pandas as pd\n",
        "#set path of dataframe\n",
        "# (1) So here we are  loading and viewing the data set, we will use pandas library\n",
        "# read the function pd.read_csv and load the data set from the path and we will\n",
        "# display the first 10 rows of data set using df.head(10).\n",
        "worldHappiness=pd.read_csv(\"/content/drive/MyDrive/jupyter/WHR-2024-5CS037.csv\")\n",
        "print(\"The first row of datatype :\")\n",
        "print(worldHappiness.head(10))\n",
        "\n",
        "# (2) Also we are going to analyze the number of rows and columns in the dataset\n",
        "# using df.shape function.\n",
        "#(2)Identify the number of rows and columns in the dataset.\n",
        "numOfRow , numOfColume=worldHappiness.shape\n",
        "print(\"Number of rows : \",numOfRow);\n",
        "print(\"Number of cols :\",numOfColume);\n",
        "\n",
        "\n",
        "# (3)  At last we will use df.dtypes function to display name sof columns along\n",
        "# with their data types.\n",
        "#(3)List all the columns and their data types.\n",
        "dataTypesColumns=worldHappiness.dtypes\n",
        "print(\"The data types of dataflame are :\\n\",dataTypesColumns)\n"
      ],
      "metadata": {
        "id": "-3uuZvxMEVRY",
        "colab": {
          "base_uri": "https://localhost:8080/"
        },
        "outputId": "4bae2f4b-fa58-443b-9562-db934ecd5754"
      },
      "execution_count": 141,
      "outputs": [
        {
          "output_type": "stream",
          "name": "stdout",
          "text": [
            "The first row of datatype :\n",
            "  Country name  score  Log GDP per capita  Social support  \\\n",
            "0      Finland  7.741               1.844           1.572   \n",
            "1      Denmark  7.583               1.908           1.520   \n",
            "2      Iceland  7.525               1.881           1.617   \n",
            "3       Sweden  7.344               1.878           1.501   \n",
            "4       Israel  7.341               1.803           1.513   \n",
            "5  Netherlands  7.319               1.901           1.462   \n",
            "6       Norway  7.302               1.952           1.517   \n",
            "7   Luxembourg  7.122               2.141           1.355   \n",
            "8  Switzerland  7.060               1.970           1.425   \n",
            "9    Australia  7.057               1.854           1.461   \n",
            "\n",
            "   Healthy life expectancy  Freedom to make life choices  Generosity  \\\n",
            "0                    0.695                         0.859       0.142   \n",
            "1                    0.699                         0.823       0.204   \n",
            "2                    0.718                         0.819       0.258   \n",
            "3                    0.724                         0.838       0.221   \n",
            "4                    0.740                         0.641       0.153   \n",
            "5                    0.706                         0.725       0.247   \n",
            "6                    0.704                         0.835       0.224   \n",
            "7                    0.708                         0.801       0.146   \n",
            "8                    0.747                         0.759       0.173   \n",
            "9                    0.692                         0.756       0.225   \n",
            "\n",
            "   Perceptions of corruption  Dystopia + residual  \n",
            "0                      0.546                2.082  \n",
            "1                      0.548                1.881  \n",
            "2                      0.182                2.050  \n",
            "3                      0.524                1.658  \n",
            "4                      0.193                2.298  \n",
            "5                      0.372                1.906  \n",
            "6                      0.484                1.586  \n",
            "7                      0.432                1.540  \n",
            "8                      0.498                1.488  \n",
            "9                      0.323                1.745  \n",
            "Number of rows :  143\n",
            "Number of cols : 9\n",
            "The data types of dataflame are :\n",
            " Country name                     object\n",
            "score                           float64\n",
            "Log GDP per capita              float64\n",
            "Social support                  float64\n",
            "Healthy life expectancy         float64\n",
            "Freedom to make life choices    float64\n",
            "Generosity                      float64\n",
            "Perceptions of corruption       float64\n",
            "Dystopia + residual             float64\n",
            "dtype: object\n"
          ]
        }
      ]
    },
    {
      "cell_type": "markdown",
      "source": [
        " Basic Statistics:\n",
        " 1. Calculate the mean, median, and standard deviation for the Score column.\n",
        " 2. Identify the country with the highest and lowest happiness scores"
      ],
      "metadata": {
        "id": "IspHKfD-QpoF"
      }
    },
    {
      "cell_type": "code",
      "source": [
        "#(1)So here, we are doing basic statistics for the 'score' column and the reason\n",
        "# to do this is to understand the variability of happiness scores. where the mean\n",
        "# represents the average happiness score, where as median provides the middle\n",
        "# value when the scores are sorted offering little insight into data's\n",
        "# distribution and the Standard deviation measures the spead of scores\n",
        "# indicating how much they deviate from mean\n",
        "\n",
        "#(1). Calculate the mean, median, and standard deviation for the Score column.\n",
        "meanScore=worldHappiness['score'].mean()\n",
        "medianScore=worldHappiness['score'].median()\n",
        "standardDeviation=worldHappiness['score'].std()\n",
        "\n",
        "print(f\"The mean of worldHappines data falme of score is  :{meanScore:.2f}\")\n",
        "print(f\"The median of worldHappines data falme of score is  :{medianScore :.2f}\")\n",
        "print(f\"Standard Deviation of worldHappiness data score is :{standardDeviation: .2f}\")\n",
        "\n",
        "#highest and lowest happiness scores\n",
        "higestScore=worldHappiness.loc[worldHappiness['score'].idxmax()]\n",
        "lowestScore=worldHappiness.loc[worldHappiness['score'].idxmin()]\n"
      ],
      "metadata": {
        "colab": {
          "base_uri": "https://localhost:8080/"
        },
        "id": "4d-QG71lNWPc",
        "outputId": "6b0132da-4982-49cc-e707-f28e2f4b8f9d"
      },
      "execution_count": 142,
      "outputs": [
        {
          "output_type": "stream",
          "name": "stdout",
          "text": [
            "The mean of worldHappines data falme of score is  :5.53\n",
            "The median of worldHappines data falme of score is  :5.79\n",
            "Standard Deviation of worldHappiness data score is : 1.17\n"
          ]
        }
      ]
    },
    {
      "cell_type": "markdown",
      "source": [
        " Missing Values:\n",
        " 1. Check if there are any missing values in the dataset. If so, display the total count for each column."
      ],
      "metadata": {
        "id": "kBPDJBnY5e7r"
      }
    },
    {
      "cell_type": "code",
      "source": [
        "#(1) we are using isnull() and sum() also for missing values where as isnull() shows\n",
        "# you which dataset has missing values and sum() for counting missing values of\n",
        "# each column.\n",
        "#(1) Check if there are any missing values in the dataset. If so, display the total count for each column.\n",
        "missingValue=worldHappiness.isnull().sum()\n",
        "print(\"The missing values are : \\n\",missingValue)"
      ],
      "metadata": {
        "colab": {
          "base_uri": "https://localhost:8080/"
        },
        "id": "2Hew7i1e5d6F",
        "outputId": "9ccd7d85-2e71-4f7e-82b4-aea1f5984f71"
      },
      "execution_count": 143,
      "outputs": [
        {
          "output_type": "stream",
          "name": "stdout",
          "text": [
            "The missing values are : \n",
            " Country name                    0\n",
            "score                           0\n",
            "Log GDP per capita              3\n",
            "Social support                  3\n",
            "Healthy life expectancy         3\n",
            "Freedom to make life choices    3\n",
            "Generosity                      3\n",
            "Perceptions of corruption       3\n",
            "Dystopia + residual             3\n",
            "dtype: int64\n"
          ]
        }
      ]
    },
    {
      "cell_type": "markdown",
      "source": [
        " Filtering and Sorting:\n",
        " 1. Filter the dataset to show only the countries with a Score greater than 7.5.\n",
        " 2. For the filtered dataset- Sort the dataset by GDP per Capita in descending order and display the\n",
        " top 10 rows"
      ],
      "metadata": {
        "id": "1D4Rq0Os56Dr"
      }
    },
    {
      "cell_type": "code",
      "source": [
        "#(1) we are using df[df['score'] > 7.5] function to see the countries with\n",
        "# highest happiness score.\n",
        "#(1). Filter the dataset to show only the countries with a Score greater than 7.5.\n",
        "filterData=worldHappiness[worldHappiness['score'] > 7.5]\n",
        "print(\"Countries wieth greater then 7.5 \")\n",
        "filterData\n",
        "\n",
        "\n",
        "\n",
        "\n"
      ],
      "metadata": {
        "colab": {
          "base_uri": "https://localhost:8080/",
          "height": 161
        },
        "id": "zDHlscjq57Qe",
        "outputId": "a4eb865a-13ee-403f-dbe0-adc6c6b2fe9c"
      },
      "execution_count": 144,
      "outputs": [
        {
          "output_type": "stream",
          "name": "stdout",
          "text": [
            "Countries wieth greater then 7.5 \n"
          ]
        },
        {
          "output_type": "execute_result",
          "data": {
            "text/plain": [
              "  Country name  score  Log GDP per capita  Social support  \\\n",
              "0      Finland  7.741               1.844           1.572   \n",
              "1      Denmark  7.583               1.908           1.520   \n",
              "2      Iceland  7.525               1.881           1.617   \n",
              "\n",
              "   Healthy life expectancy  Freedom to make life choices  Generosity  \\\n",
              "0                    0.695                         0.859       0.142   \n",
              "1                    0.699                         0.823       0.204   \n",
              "2                    0.718                         0.819       0.258   \n",
              "\n",
              "   Perceptions of corruption  Dystopia + residual  \n",
              "0                      0.546                2.082  \n",
              "1                      0.548                1.881  \n",
              "2                      0.182                2.050  "
            ],
            "text/html": [
              "\n",
              "  <div id=\"df-991961a8-80e9-4a24-a305-4f1582738bdf\" class=\"colab-df-container\">\n",
              "    <div>\n",
              "<style scoped>\n",
              "    .dataframe tbody tr th:only-of-type {\n",
              "        vertical-align: middle;\n",
              "    }\n",
              "\n",
              "    .dataframe tbody tr th {\n",
              "        vertical-align: top;\n",
              "    }\n",
              "\n",
              "    .dataframe thead th {\n",
              "        text-align: right;\n",
              "    }\n",
              "</style>\n",
              "<table border=\"1\" class=\"dataframe\">\n",
              "  <thead>\n",
              "    <tr style=\"text-align: right;\">\n",
              "      <th></th>\n",
              "      <th>Country name</th>\n",
              "      <th>score</th>\n",
              "      <th>Log GDP per capita</th>\n",
              "      <th>Social support</th>\n",
              "      <th>Healthy life expectancy</th>\n",
              "      <th>Freedom to make life choices</th>\n",
              "      <th>Generosity</th>\n",
              "      <th>Perceptions of corruption</th>\n",
              "      <th>Dystopia + residual</th>\n",
              "    </tr>\n",
              "  </thead>\n",
              "  <tbody>\n",
              "    <tr>\n",
              "      <th>0</th>\n",
              "      <td>Finland</td>\n",
              "      <td>7.741</td>\n",
              "      <td>1.844</td>\n",
              "      <td>1.572</td>\n",
              "      <td>0.695</td>\n",
              "      <td>0.859</td>\n",
              "      <td>0.142</td>\n",
              "      <td>0.546</td>\n",
              "      <td>2.082</td>\n",
              "    </tr>\n",
              "    <tr>\n",
              "      <th>1</th>\n",
              "      <td>Denmark</td>\n",
              "      <td>7.583</td>\n",
              "      <td>1.908</td>\n",
              "      <td>1.520</td>\n",
              "      <td>0.699</td>\n",
              "      <td>0.823</td>\n",
              "      <td>0.204</td>\n",
              "      <td>0.548</td>\n",
              "      <td>1.881</td>\n",
              "    </tr>\n",
              "    <tr>\n",
              "      <th>2</th>\n",
              "      <td>Iceland</td>\n",
              "      <td>7.525</td>\n",
              "      <td>1.881</td>\n",
              "      <td>1.617</td>\n",
              "      <td>0.718</td>\n",
              "      <td>0.819</td>\n",
              "      <td>0.258</td>\n",
              "      <td>0.182</td>\n",
              "      <td>2.050</td>\n",
              "    </tr>\n",
              "  </tbody>\n",
              "</table>\n",
              "</div>\n",
              "    <div class=\"colab-df-buttons\">\n",
              "\n",
              "  <div class=\"colab-df-container\">\n",
              "    <button class=\"colab-df-convert\" onclick=\"convertToInteractive('df-991961a8-80e9-4a24-a305-4f1582738bdf')\"\n",
              "            title=\"Convert this dataframe to an interactive table.\"\n",
              "            style=\"display:none;\">\n",
              "\n",
              "  <svg xmlns=\"http://www.w3.org/2000/svg\" height=\"24px\" viewBox=\"0 -960 960 960\">\n",
              "    <path d=\"M120-120v-720h720v720H120Zm60-500h600v-160H180v160Zm220 220h160v-160H400v160Zm0 220h160v-160H400v160ZM180-400h160v-160H180v160Zm440 0h160v-160H620v160ZM180-180h160v-160H180v160Zm440 0h160v-160H620v160Z\"/>\n",
              "  </svg>\n",
              "    </button>\n",
              "\n",
              "  <style>\n",
              "    .colab-df-container {\n",
              "      display:flex;\n",
              "      gap: 12px;\n",
              "    }\n",
              "\n",
              "    .colab-df-convert {\n",
              "      background-color: #E8F0FE;\n",
              "      border: none;\n",
              "      border-radius: 50%;\n",
              "      cursor: pointer;\n",
              "      display: none;\n",
              "      fill: #1967D2;\n",
              "      height: 32px;\n",
              "      padding: 0 0 0 0;\n",
              "      width: 32px;\n",
              "    }\n",
              "\n",
              "    .colab-df-convert:hover {\n",
              "      background-color: #E2EBFA;\n",
              "      box-shadow: 0px 1px 2px rgba(60, 64, 67, 0.3), 0px 1px 3px 1px rgba(60, 64, 67, 0.15);\n",
              "      fill: #174EA6;\n",
              "    }\n",
              "\n",
              "    .colab-df-buttons div {\n",
              "      margin-bottom: 4px;\n",
              "    }\n",
              "\n",
              "    [theme=dark] .colab-df-convert {\n",
              "      background-color: #3B4455;\n",
              "      fill: #D2E3FC;\n",
              "    }\n",
              "\n",
              "    [theme=dark] .colab-df-convert:hover {\n",
              "      background-color: #434B5C;\n",
              "      box-shadow: 0px 1px 3px 1px rgba(0, 0, 0, 0.15);\n",
              "      filter: drop-shadow(0px 1px 2px rgba(0, 0, 0, 0.3));\n",
              "      fill: #FFFFFF;\n",
              "    }\n",
              "  </style>\n",
              "\n",
              "    <script>\n",
              "      const buttonEl =\n",
              "        document.querySelector('#df-991961a8-80e9-4a24-a305-4f1582738bdf button.colab-df-convert');\n",
              "      buttonEl.style.display =\n",
              "        google.colab.kernel.accessAllowed ? 'block' : 'none';\n",
              "\n",
              "      async function convertToInteractive(key) {\n",
              "        const element = document.querySelector('#df-991961a8-80e9-4a24-a305-4f1582738bdf');\n",
              "        const dataTable =\n",
              "          await google.colab.kernel.invokeFunction('convertToInteractive',\n",
              "                                                    [key], {});\n",
              "        if (!dataTable) return;\n",
              "\n",
              "        const docLinkHtml = 'Like what you see? Visit the ' +\n",
              "          '<a target=\"_blank\" href=https://colab.research.google.com/notebooks/data_table.ipynb>data table notebook</a>'\n",
              "          + ' to learn more about interactive tables.';\n",
              "        element.innerHTML = '';\n",
              "        dataTable['output_type'] = 'display_data';\n",
              "        await google.colab.output.renderOutput(dataTable, element);\n",
              "        const docLink = document.createElement('div');\n",
              "        docLink.innerHTML = docLinkHtml;\n",
              "        element.appendChild(docLink);\n",
              "      }\n",
              "    </script>\n",
              "  </div>\n",
              "\n",
              "\n",
              "<div id=\"df-949fac71-acdc-476d-a2d4-a627c6b95b22\">\n",
              "  <button class=\"colab-df-quickchart\" onclick=\"quickchart('df-949fac71-acdc-476d-a2d4-a627c6b95b22')\"\n",
              "            title=\"Suggest charts\"\n",
              "            style=\"display:none;\">\n",
              "\n",
              "<svg xmlns=\"http://www.w3.org/2000/svg\" height=\"24px\"viewBox=\"0 0 24 24\"\n",
              "     width=\"24px\">\n",
              "    <g>\n",
              "        <path d=\"M19 3H5c-1.1 0-2 .9-2 2v14c0 1.1.9 2 2 2h14c1.1 0 2-.9 2-2V5c0-1.1-.9-2-2-2zM9 17H7v-7h2v7zm4 0h-2V7h2v10zm4 0h-2v-4h2v4z\"/>\n",
              "    </g>\n",
              "</svg>\n",
              "  </button>\n",
              "\n",
              "<style>\n",
              "  .colab-df-quickchart {\n",
              "      --bg-color: #E8F0FE;\n",
              "      --fill-color: #1967D2;\n",
              "      --hover-bg-color: #E2EBFA;\n",
              "      --hover-fill-color: #174EA6;\n",
              "      --disabled-fill-color: #AAA;\n",
              "      --disabled-bg-color: #DDD;\n",
              "  }\n",
              "\n",
              "  [theme=dark] .colab-df-quickchart {\n",
              "      --bg-color: #3B4455;\n",
              "      --fill-color: #D2E3FC;\n",
              "      --hover-bg-color: #434B5C;\n",
              "      --hover-fill-color: #FFFFFF;\n",
              "      --disabled-bg-color: #3B4455;\n",
              "      --disabled-fill-color: #666;\n",
              "  }\n",
              "\n",
              "  .colab-df-quickchart {\n",
              "    background-color: var(--bg-color);\n",
              "    border: none;\n",
              "    border-radius: 50%;\n",
              "    cursor: pointer;\n",
              "    display: none;\n",
              "    fill: var(--fill-color);\n",
              "    height: 32px;\n",
              "    padding: 0;\n",
              "    width: 32px;\n",
              "  }\n",
              "\n",
              "  .colab-df-quickchart:hover {\n",
              "    background-color: var(--hover-bg-color);\n",
              "    box-shadow: 0 1px 2px rgba(60, 64, 67, 0.3), 0 1px 3px 1px rgba(60, 64, 67, 0.15);\n",
              "    fill: var(--button-hover-fill-color);\n",
              "  }\n",
              "\n",
              "  .colab-df-quickchart-complete:disabled,\n",
              "  .colab-df-quickchart-complete:disabled:hover {\n",
              "    background-color: var(--disabled-bg-color);\n",
              "    fill: var(--disabled-fill-color);\n",
              "    box-shadow: none;\n",
              "  }\n",
              "\n",
              "  .colab-df-spinner {\n",
              "    border: 2px solid var(--fill-color);\n",
              "    border-color: transparent;\n",
              "    border-bottom-color: var(--fill-color);\n",
              "    animation:\n",
              "      spin 1s steps(1) infinite;\n",
              "  }\n",
              "\n",
              "  @keyframes spin {\n",
              "    0% {\n",
              "      border-color: transparent;\n",
              "      border-bottom-color: var(--fill-color);\n",
              "      border-left-color: var(--fill-color);\n",
              "    }\n",
              "    20% {\n",
              "      border-color: transparent;\n",
              "      border-left-color: var(--fill-color);\n",
              "      border-top-color: var(--fill-color);\n",
              "    }\n",
              "    30% {\n",
              "      border-color: transparent;\n",
              "      border-left-color: var(--fill-color);\n",
              "      border-top-color: var(--fill-color);\n",
              "      border-right-color: var(--fill-color);\n",
              "    }\n",
              "    40% {\n",
              "      border-color: transparent;\n",
              "      border-right-color: var(--fill-color);\n",
              "      border-top-color: var(--fill-color);\n",
              "    }\n",
              "    60% {\n",
              "      border-color: transparent;\n",
              "      border-right-color: var(--fill-color);\n",
              "    }\n",
              "    80% {\n",
              "      border-color: transparent;\n",
              "      border-right-color: var(--fill-color);\n",
              "      border-bottom-color: var(--fill-color);\n",
              "    }\n",
              "    90% {\n",
              "      border-color: transparent;\n",
              "      border-bottom-color: var(--fill-color);\n",
              "    }\n",
              "  }\n",
              "</style>\n",
              "\n",
              "  <script>\n",
              "    async function quickchart(key) {\n",
              "      const quickchartButtonEl =\n",
              "        document.querySelector('#' + key + ' button');\n",
              "      quickchartButtonEl.disabled = true;  // To prevent multiple clicks.\n",
              "      quickchartButtonEl.classList.add('colab-df-spinner');\n",
              "      try {\n",
              "        const charts = await google.colab.kernel.invokeFunction(\n",
              "            'suggestCharts', [key], {});\n",
              "      } catch (error) {\n",
              "        console.error('Error during call to suggestCharts:', error);\n",
              "      }\n",
              "      quickchartButtonEl.classList.remove('colab-df-spinner');\n",
              "      quickchartButtonEl.classList.add('colab-df-quickchart-complete');\n",
              "    }\n",
              "    (() => {\n",
              "      let quickchartButtonEl =\n",
              "        document.querySelector('#df-949fac71-acdc-476d-a2d4-a627c6b95b22 button');\n",
              "      quickchartButtonEl.style.display =\n",
              "        google.colab.kernel.accessAllowed ? 'block' : 'none';\n",
              "    })();\n",
              "  </script>\n",
              "</div>\n",
              "\n",
              "  <div id=\"id_c4ccd54a-042e-4633-85f1-dfb9095d2b15\">\n",
              "    <style>\n",
              "      .colab-df-generate {\n",
              "        background-color: #E8F0FE;\n",
              "        border: none;\n",
              "        border-radius: 50%;\n",
              "        cursor: pointer;\n",
              "        display: none;\n",
              "        fill: #1967D2;\n",
              "        height: 32px;\n",
              "        padding: 0 0 0 0;\n",
              "        width: 32px;\n",
              "      }\n",
              "\n",
              "      .colab-df-generate:hover {\n",
              "        background-color: #E2EBFA;\n",
              "        box-shadow: 0px 1px 2px rgba(60, 64, 67, 0.3), 0px 1px 3px 1px rgba(60, 64, 67, 0.15);\n",
              "        fill: #174EA6;\n",
              "      }\n",
              "\n",
              "      [theme=dark] .colab-df-generate {\n",
              "        background-color: #3B4455;\n",
              "        fill: #D2E3FC;\n",
              "      }\n",
              "\n",
              "      [theme=dark] .colab-df-generate:hover {\n",
              "        background-color: #434B5C;\n",
              "        box-shadow: 0px 1px 3px 1px rgba(0, 0, 0, 0.15);\n",
              "        filter: drop-shadow(0px 1px 2px rgba(0, 0, 0, 0.3));\n",
              "        fill: #FFFFFF;\n",
              "      }\n",
              "    </style>\n",
              "    <button class=\"colab-df-generate\" onclick=\"generateWithVariable('filterData')\"\n",
              "            title=\"Generate code using this dataframe.\"\n",
              "            style=\"display:none;\">\n",
              "\n",
              "  <svg xmlns=\"http://www.w3.org/2000/svg\" height=\"24px\"viewBox=\"0 0 24 24\"\n",
              "       width=\"24px\">\n",
              "    <path d=\"M7,19H8.4L18.45,9,17,7.55,7,17.6ZM5,21V16.75L18.45,3.32a2,2,0,0,1,2.83,0l1.4,1.43a1.91,1.91,0,0,1,.58,1.4,1.91,1.91,0,0,1-.58,1.4L9.25,21ZM18.45,9,17,7.55Zm-12,3A5.31,5.31,0,0,0,4.9,8.1,5.31,5.31,0,0,0,1,6.5,5.31,5.31,0,0,0,4.9,4.9,5.31,5.31,0,0,0,6.5,1,5.31,5.31,0,0,0,8.1,4.9,5.31,5.31,0,0,0,12,6.5,5.46,5.46,0,0,0,6.5,12Z\"/>\n",
              "  </svg>\n",
              "    </button>\n",
              "    <script>\n",
              "      (() => {\n",
              "      const buttonEl =\n",
              "        document.querySelector('#id_c4ccd54a-042e-4633-85f1-dfb9095d2b15 button.colab-df-generate');\n",
              "      buttonEl.style.display =\n",
              "        google.colab.kernel.accessAllowed ? 'block' : 'none';\n",
              "\n",
              "      buttonEl.onclick = () => {\n",
              "        google.colab.notebook.generateWithVariable('filterData');\n",
              "      }\n",
              "      })();\n",
              "    </script>\n",
              "  </div>\n",
              "\n",
              "    </div>\n",
              "  </div>\n"
            ],
            "application/vnd.google.colaboratory.intrinsic+json": {
              "type": "dataframe",
              "variable_name": "filterData",
              "summary": "{\n  \"name\": \"filterData\",\n  \"rows\": 3,\n  \"fields\": [\n    {\n      \"column\": \"Country name\",\n      \"properties\": {\n        \"dtype\": \"string\",\n        \"num_unique_values\": 3,\n        \"samples\": [\n          \"Finland\",\n          \"Denmark\",\n          \"Iceland\"\n        ],\n        \"semantic_type\": \"\",\n        \"description\": \"\"\n      }\n    },\n    {\n      \"column\": \"score\",\n      \"properties\": {\n        \"dtype\": \"number\",\n        \"std\": 0.11179147254300416,\n        \"min\": 7.525,\n        \"max\": 7.741,\n        \"num_unique_values\": 3,\n        \"samples\": [\n          7.741,\n          7.583,\n          7.525\n        ],\n        \"semantic_type\": \"\",\n        \"description\": \"\"\n      }\n    },\n    {\n      \"column\": \"Log GDP per capita\",\n      \"properties\": {\n        \"dtype\": \"number\",\n        \"std\": 0.03212994449626902,\n        \"min\": 1.844,\n        \"max\": 1.908,\n        \"num_unique_values\": 3,\n        \"samples\": [\n          1.844,\n          1.908,\n          1.881\n        ],\n        \"semantic_type\": \"\",\n        \"description\": \"\"\n      }\n    },\n    {\n      \"column\": \"Social support\",\n      \"properties\": {\n        \"dtype\": \"number\",\n        \"std\": 0.04854207796678396,\n        \"min\": 1.52,\n        \"max\": 1.617,\n        \"num_unique_values\": 3,\n        \"samples\": [\n          1.572,\n          1.52,\n          1.617\n        ],\n        \"semantic_type\": \"\",\n        \"description\": \"\"\n      }\n    },\n    {\n      \"column\": \"Healthy life expectancy\",\n      \"properties\": {\n        \"dtype\": \"number\",\n        \"std\": 0.012288205727444518,\n        \"min\": 0.695,\n        \"max\": 0.718,\n        \"num_unique_values\": 3,\n        \"samples\": [\n          0.695,\n          0.699,\n          0.718\n        ],\n        \"semantic_type\": \"\",\n        \"description\": \"\"\n      }\n    },\n    {\n      \"column\": \"Freedom to make life choices\",\n      \"properties\": {\n        \"dtype\": \"number\",\n        \"std\": 0.022030282189144428,\n        \"min\": 0.819,\n        \"max\": 0.859,\n        \"num_unique_values\": 3,\n        \"samples\": [\n          0.859,\n          0.823,\n          0.819\n        ],\n        \"semantic_type\": \"\",\n        \"description\": \"\"\n      }\n    },\n    {\n      \"column\": \"Generosity\",\n      \"properties\": {\n        \"dtype\": \"number\",\n        \"std\": 0.05804595880277398,\n        \"min\": 0.142,\n        \"max\": 0.258,\n        \"num_unique_values\": 3,\n        \"samples\": [\n          0.142,\n          0.204,\n          0.258\n        ],\n        \"semantic_type\": \"\",\n        \"description\": \"\"\n      }\n    },\n    {\n      \"column\": \"Perceptions of corruption\",\n      \"properties\": {\n        \"dtype\": \"number\",\n        \"std\": 0.21073522091319558,\n        \"min\": 0.182,\n        \"max\": 0.548,\n        \"num_unique_values\": 3,\n        \"samples\": [\n          0.546,\n          0.548,\n          0.182\n        ],\n        \"semantic_type\": \"\",\n        \"description\": \"\"\n      }\n    },\n    {\n      \"column\": \"Dystopia + residual\",\n      \"properties\": {\n        \"dtype\": \"number\",\n        \"std\": 0.10800154319885116,\n        \"min\": 1.881,\n        \"max\": 2.082,\n        \"num_unique_values\": 3,\n        \"samples\": [\n          2.082,\n          1.881,\n          2.05\n        ],\n        \"semantic_type\": \"\",\n        \"description\": \"\"\n      }\n    }\n  ]\n}"
            }
          },
          "metadata": {},
          "execution_count": 144
        }
      ]
    },
    {
      "cell_type": "code",
      "source": [
        "#(2) We use sort_values() function to show the economic condition of happiest\n",
        "# countries as measured by GDP per capita\n",
        "#(2) For the filtered dataset - Sort the dataset by GDP per Capita in descending order and display the top 10 rows.\n",
        "sortedDatas=filterData.sort_values(by = 'Log GDP per capita', ascending=False)\n",
        "print(\" Top 10  GDP per Capita in descending order \")\n",
        "sortedDatas\n"
      ],
      "metadata": {
        "colab": {
          "base_uri": "https://localhost:8080/",
          "height": 161
        },
        "id": "9JNXkXri9Mve",
        "outputId": "54c0a517-af9d-483e-be2c-04dec7d1aea3"
      },
      "execution_count": 145,
      "outputs": [
        {
          "output_type": "stream",
          "name": "stdout",
          "text": [
            " Top 10  GDP per Capita in descending order \n"
          ]
        },
        {
          "output_type": "execute_result",
          "data": {
            "text/plain": [
              "  Country name  score  Log GDP per capita  Social support  \\\n",
              "1      Denmark  7.583               1.908           1.520   \n",
              "2      Iceland  7.525               1.881           1.617   \n",
              "0      Finland  7.741               1.844           1.572   \n",
              "\n",
              "   Healthy life expectancy  Freedom to make life choices  Generosity  \\\n",
              "1                    0.699                         0.823       0.204   \n",
              "2                    0.718                         0.819       0.258   \n",
              "0                    0.695                         0.859       0.142   \n",
              "\n",
              "   Perceptions of corruption  Dystopia + residual  \n",
              "1                      0.548                1.881  \n",
              "2                      0.182                2.050  \n",
              "0                      0.546                2.082  "
            ],
            "text/html": [
              "\n",
              "  <div id=\"df-a25ca9bb-10e6-4361-85ca-56476fc48330\" class=\"colab-df-container\">\n",
              "    <div>\n",
              "<style scoped>\n",
              "    .dataframe tbody tr th:only-of-type {\n",
              "        vertical-align: middle;\n",
              "    }\n",
              "\n",
              "    .dataframe tbody tr th {\n",
              "        vertical-align: top;\n",
              "    }\n",
              "\n",
              "    .dataframe thead th {\n",
              "        text-align: right;\n",
              "    }\n",
              "</style>\n",
              "<table border=\"1\" class=\"dataframe\">\n",
              "  <thead>\n",
              "    <tr style=\"text-align: right;\">\n",
              "      <th></th>\n",
              "      <th>Country name</th>\n",
              "      <th>score</th>\n",
              "      <th>Log GDP per capita</th>\n",
              "      <th>Social support</th>\n",
              "      <th>Healthy life expectancy</th>\n",
              "      <th>Freedom to make life choices</th>\n",
              "      <th>Generosity</th>\n",
              "      <th>Perceptions of corruption</th>\n",
              "      <th>Dystopia + residual</th>\n",
              "    </tr>\n",
              "  </thead>\n",
              "  <tbody>\n",
              "    <tr>\n",
              "      <th>1</th>\n",
              "      <td>Denmark</td>\n",
              "      <td>7.583</td>\n",
              "      <td>1.908</td>\n",
              "      <td>1.520</td>\n",
              "      <td>0.699</td>\n",
              "      <td>0.823</td>\n",
              "      <td>0.204</td>\n",
              "      <td>0.548</td>\n",
              "      <td>1.881</td>\n",
              "    </tr>\n",
              "    <tr>\n",
              "      <th>2</th>\n",
              "      <td>Iceland</td>\n",
              "      <td>7.525</td>\n",
              "      <td>1.881</td>\n",
              "      <td>1.617</td>\n",
              "      <td>0.718</td>\n",
              "      <td>0.819</td>\n",
              "      <td>0.258</td>\n",
              "      <td>0.182</td>\n",
              "      <td>2.050</td>\n",
              "    </tr>\n",
              "    <tr>\n",
              "      <th>0</th>\n",
              "      <td>Finland</td>\n",
              "      <td>7.741</td>\n",
              "      <td>1.844</td>\n",
              "      <td>1.572</td>\n",
              "      <td>0.695</td>\n",
              "      <td>0.859</td>\n",
              "      <td>0.142</td>\n",
              "      <td>0.546</td>\n",
              "      <td>2.082</td>\n",
              "    </tr>\n",
              "  </tbody>\n",
              "</table>\n",
              "</div>\n",
              "    <div class=\"colab-df-buttons\">\n",
              "\n",
              "  <div class=\"colab-df-container\">\n",
              "    <button class=\"colab-df-convert\" onclick=\"convertToInteractive('df-a25ca9bb-10e6-4361-85ca-56476fc48330')\"\n",
              "            title=\"Convert this dataframe to an interactive table.\"\n",
              "            style=\"display:none;\">\n",
              "\n",
              "  <svg xmlns=\"http://www.w3.org/2000/svg\" height=\"24px\" viewBox=\"0 -960 960 960\">\n",
              "    <path d=\"M120-120v-720h720v720H120Zm60-500h600v-160H180v160Zm220 220h160v-160H400v160Zm0 220h160v-160H400v160ZM180-400h160v-160H180v160Zm440 0h160v-160H620v160ZM180-180h160v-160H180v160Zm440 0h160v-160H620v160Z\"/>\n",
              "  </svg>\n",
              "    </button>\n",
              "\n",
              "  <style>\n",
              "    .colab-df-container {\n",
              "      display:flex;\n",
              "      gap: 12px;\n",
              "    }\n",
              "\n",
              "    .colab-df-convert {\n",
              "      background-color: #E8F0FE;\n",
              "      border: none;\n",
              "      border-radius: 50%;\n",
              "      cursor: pointer;\n",
              "      display: none;\n",
              "      fill: #1967D2;\n",
              "      height: 32px;\n",
              "      padding: 0 0 0 0;\n",
              "      width: 32px;\n",
              "    }\n",
              "\n",
              "    .colab-df-convert:hover {\n",
              "      background-color: #E2EBFA;\n",
              "      box-shadow: 0px 1px 2px rgba(60, 64, 67, 0.3), 0px 1px 3px 1px rgba(60, 64, 67, 0.15);\n",
              "      fill: #174EA6;\n",
              "    }\n",
              "\n",
              "    .colab-df-buttons div {\n",
              "      margin-bottom: 4px;\n",
              "    }\n",
              "\n",
              "    [theme=dark] .colab-df-convert {\n",
              "      background-color: #3B4455;\n",
              "      fill: #D2E3FC;\n",
              "    }\n",
              "\n",
              "    [theme=dark] .colab-df-convert:hover {\n",
              "      background-color: #434B5C;\n",
              "      box-shadow: 0px 1px 3px 1px rgba(0, 0, 0, 0.15);\n",
              "      filter: drop-shadow(0px 1px 2px rgba(0, 0, 0, 0.3));\n",
              "      fill: #FFFFFF;\n",
              "    }\n",
              "  </style>\n",
              "\n",
              "    <script>\n",
              "      const buttonEl =\n",
              "        document.querySelector('#df-a25ca9bb-10e6-4361-85ca-56476fc48330 button.colab-df-convert');\n",
              "      buttonEl.style.display =\n",
              "        google.colab.kernel.accessAllowed ? 'block' : 'none';\n",
              "\n",
              "      async function convertToInteractive(key) {\n",
              "        const element = document.querySelector('#df-a25ca9bb-10e6-4361-85ca-56476fc48330');\n",
              "        const dataTable =\n",
              "          await google.colab.kernel.invokeFunction('convertToInteractive',\n",
              "                                                    [key], {});\n",
              "        if (!dataTable) return;\n",
              "\n",
              "        const docLinkHtml = 'Like what you see? Visit the ' +\n",
              "          '<a target=\"_blank\" href=https://colab.research.google.com/notebooks/data_table.ipynb>data table notebook</a>'\n",
              "          + ' to learn more about interactive tables.';\n",
              "        element.innerHTML = '';\n",
              "        dataTable['output_type'] = 'display_data';\n",
              "        await google.colab.output.renderOutput(dataTable, element);\n",
              "        const docLink = document.createElement('div');\n",
              "        docLink.innerHTML = docLinkHtml;\n",
              "        element.appendChild(docLink);\n",
              "      }\n",
              "    </script>\n",
              "  </div>\n",
              "\n",
              "\n",
              "<div id=\"df-82a07045-eb93-46b5-b984-56594220b847\">\n",
              "  <button class=\"colab-df-quickchart\" onclick=\"quickchart('df-82a07045-eb93-46b5-b984-56594220b847')\"\n",
              "            title=\"Suggest charts\"\n",
              "            style=\"display:none;\">\n",
              "\n",
              "<svg xmlns=\"http://www.w3.org/2000/svg\" height=\"24px\"viewBox=\"0 0 24 24\"\n",
              "     width=\"24px\">\n",
              "    <g>\n",
              "        <path d=\"M19 3H5c-1.1 0-2 .9-2 2v14c0 1.1.9 2 2 2h14c1.1 0 2-.9 2-2V5c0-1.1-.9-2-2-2zM9 17H7v-7h2v7zm4 0h-2V7h2v10zm4 0h-2v-4h2v4z\"/>\n",
              "    </g>\n",
              "</svg>\n",
              "  </button>\n",
              "\n",
              "<style>\n",
              "  .colab-df-quickchart {\n",
              "      --bg-color: #E8F0FE;\n",
              "      --fill-color: #1967D2;\n",
              "      --hover-bg-color: #E2EBFA;\n",
              "      --hover-fill-color: #174EA6;\n",
              "      --disabled-fill-color: #AAA;\n",
              "      --disabled-bg-color: #DDD;\n",
              "  }\n",
              "\n",
              "  [theme=dark] .colab-df-quickchart {\n",
              "      --bg-color: #3B4455;\n",
              "      --fill-color: #D2E3FC;\n",
              "      --hover-bg-color: #434B5C;\n",
              "      --hover-fill-color: #FFFFFF;\n",
              "      --disabled-bg-color: #3B4455;\n",
              "      --disabled-fill-color: #666;\n",
              "  }\n",
              "\n",
              "  .colab-df-quickchart {\n",
              "    background-color: var(--bg-color);\n",
              "    border: none;\n",
              "    border-radius: 50%;\n",
              "    cursor: pointer;\n",
              "    display: none;\n",
              "    fill: var(--fill-color);\n",
              "    height: 32px;\n",
              "    padding: 0;\n",
              "    width: 32px;\n",
              "  }\n",
              "\n",
              "  .colab-df-quickchart:hover {\n",
              "    background-color: var(--hover-bg-color);\n",
              "    box-shadow: 0 1px 2px rgba(60, 64, 67, 0.3), 0 1px 3px 1px rgba(60, 64, 67, 0.15);\n",
              "    fill: var(--button-hover-fill-color);\n",
              "  }\n",
              "\n",
              "  .colab-df-quickchart-complete:disabled,\n",
              "  .colab-df-quickchart-complete:disabled:hover {\n",
              "    background-color: var(--disabled-bg-color);\n",
              "    fill: var(--disabled-fill-color);\n",
              "    box-shadow: none;\n",
              "  }\n",
              "\n",
              "  .colab-df-spinner {\n",
              "    border: 2px solid var(--fill-color);\n",
              "    border-color: transparent;\n",
              "    border-bottom-color: var(--fill-color);\n",
              "    animation:\n",
              "      spin 1s steps(1) infinite;\n",
              "  }\n",
              "\n",
              "  @keyframes spin {\n",
              "    0% {\n",
              "      border-color: transparent;\n",
              "      border-bottom-color: var(--fill-color);\n",
              "      border-left-color: var(--fill-color);\n",
              "    }\n",
              "    20% {\n",
              "      border-color: transparent;\n",
              "      border-left-color: var(--fill-color);\n",
              "      border-top-color: var(--fill-color);\n",
              "    }\n",
              "    30% {\n",
              "      border-color: transparent;\n",
              "      border-left-color: var(--fill-color);\n",
              "      border-top-color: var(--fill-color);\n",
              "      border-right-color: var(--fill-color);\n",
              "    }\n",
              "    40% {\n",
              "      border-color: transparent;\n",
              "      border-right-color: var(--fill-color);\n",
              "      border-top-color: var(--fill-color);\n",
              "    }\n",
              "    60% {\n",
              "      border-color: transparent;\n",
              "      border-right-color: var(--fill-color);\n",
              "    }\n",
              "    80% {\n",
              "      border-color: transparent;\n",
              "      border-right-color: var(--fill-color);\n",
              "      border-bottom-color: var(--fill-color);\n",
              "    }\n",
              "    90% {\n",
              "      border-color: transparent;\n",
              "      border-bottom-color: var(--fill-color);\n",
              "    }\n",
              "  }\n",
              "</style>\n",
              "\n",
              "  <script>\n",
              "    async function quickchart(key) {\n",
              "      const quickchartButtonEl =\n",
              "        document.querySelector('#' + key + ' button');\n",
              "      quickchartButtonEl.disabled = true;  // To prevent multiple clicks.\n",
              "      quickchartButtonEl.classList.add('colab-df-spinner');\n",
              "      try {\n",
              "        const charts = await google.colab.kernel.invokeFunction(\n",
              "            'suggestCharts', [key], {});\n",
              "      } catch (error) {\n",
              "        console.error('Error during call to suggestCharts:', error);\n",
              "      }\n",
              "      quickchartButtonEl.classList.remove('colab-df-spinner');\n",
              "      quickchartButtonEl.classList.add('colab-df-quickchart-complete');\n",
              "    }\n",
              "    (() => {\n",
              "      let quickchartButtonEl =\n",
              "        document.querySelector('#df-82a07045-eb93-46b5-b984-56594220b847 button');\n",
              "      quickchartButtonEl.style.display =\n",
              "        google.colab.kernel.accessAllowed ? 'block' : 'none';\n",
              "    })();\n",
              "  </script>\n",
              "</div>\n",
              "\n",
              "  <div id=\"id_5606b85a-217d-4f1b-be5b-0576fffae841\">\n",
              "    <style>\n",
              "      .colab-df-generate {\n",
              "        background-color: #E8F0FE;\n",
              "        border: none;\n",
              "        border-radius: 50%;\n",
              "        cursor: pointer;\n",
              "        display: none;\n",
              "        fill: #1967D2;\n",
              "        height: 32px;\n",
              "        padding: 0 0 0 0;\n",
              "        width: 32px;\n",
              "      }\n",
              "\n",
              "      .colab-df-generate:hover {\n",
              "        background-color: #E2EBFA;\n",
              "        box-shadow: 0px 1px 2px rgba(60, 64, 67, 0.3), 0px 1px 3px 1px rgba(60, 64, 67, 0.15);\n",
              "        fill: #174EA6;\n",
              "      }\n",
              "\n",
              "      [theme=dark] .colab-df-generate {\n",
              "        background-color: #3B4455;\n",
              "        fill: #D2E3FC;\n",
              "      }\n",
              "\n",
              "      [theme=dark] .colab-df-generate:hover {\n",
              "        background-color: #434B5C;\n",
              "        box-shadow: 0px 1px 3px 1px rgba(0, 0, 0, 0.15);\n",
              "        filter: drop-shadow(0px 1px 2px rgba(0, 0, 0, 0.3));\n",
              "        fill: #FFFFFF;\n",
              "      }\n",
              "    </style>\n",
              "    <button class=\"colab-df-generate\" onclick=\"generateWithVariable('sortedDatas')\"\n",
              "            title=\"Generate code using this dataframe.\"\n",
              "            style=\"display:none;\">\n",
              "\n",
              "  <svg xmlns=\"http://www.w3.org/2000/svg\" height=\"24px\"viewBox=\"0 0 24 24\"\n",
              "       width=\"24px\">\n",
              "    <path d=\"M7,19H8.4L18.45,9,17,7.55,7,17.6ZM5,21V16.75L18.45,3.32a2,2,0,0,1,2.83,0l1.4,1.43a1.91,1.91,0,0,1,.58,1.4,1.91,1.91,0,0,1-.58,1.4L9.25,21ZM18.45,9,17,7.55Zm-12,3A5.31,5.31,0,0,0,4.9,8.1,5.31,5.31,0,0,0,1,6.5,5.31,5.31,0,0,0,4.9,4.9,5.31,5.31,0,0,0,6.5,1,5.31,5.31,0,0,0,8.1,4.9,5.31,5.31,0,0,0,12,6.5,5.46,5.46,0,0,0,6.5,12Z\"/>\n",
              "  </svg>\n",
              "    </button>\n",
              "    <script>\n",
              "      (() => {\n",
              "      const buttonEl =\n",
              "        document.querySelector('#id_5606b85a-217d-4f1b-be5b-0576fffae841 button.colab-df-generate');\n",
              "      buttonEl.style.display =\n",
              "        google.colab.kernel.accessAllowed ? 'block' : 'none';\n",
              "\n",
              "      buttonEl.onclick = () => {\n",
              "        google.colab.notebook.generateWithVariable('sortedDatas');\n",
              "      }\n",
              "      })();\n",
              "    </script>\n",
              "  </div>\n",
              "\n",
              "    </div>\n",
              "  </div>\n"
            ],
            "application/vnd.google.colaboratory.intrinsic+json": {
              "type": "dataframe",
              "variable_name": "sortedDatas",
              "summary": "{\n  \"name\": \"sortedDatas\",\n  \"rows\": 3,\n  \"fields\": [\n    {\n      \"column\": \"Country name\",\n      \"properties\": {\n        \"dtype\": \"string\",\n        \"num_unique_values\": 3,\n        \"samples\": [\n          \"Denmark\",\n          \"Iceland\",\n          \"Finland\"\n        ],\n        \"semantic_type\": \"\",\n        \"description\": \"\"\n      }\n    },\n    {\n      \"column\": \"score\",\n      \"properties\": {\n        \"dtype\": \"number\",\n        \"std\": 0.11179147254300416,\n        \"min\": 7.525,\n        \"max\": 7.741,\n        \"num_unique_values\": 3,\n        \"samples\": [\n          7.583,\n          7.525,\n          7.741\n        ],\n        \"semantic_type\": \"\",\n        \"description\": \"\"\n      }\n    },\n    {\n      \"column\": \"Log GDP per capita\",\n      \"properties\": {\n        \"dtype\": \"number\",\n        \"std\": 0.03212994449626902,\n        \"min\": 1.844,\n        \"max\": 1.908,\n        \"num_unique_values\": 3,\n        \"samples\": [\n          1.908,\n          1.881,\n          1.844\n        ],\n        \"semantic_type\": \"\",\n        \"description\": \"\"\n      }\n    },\n    {\n      \"column\": \"Social support\",\n      \"properties\": {\n        \"dtype\": \"number\",\n        \"std\": 0.048542077966783954,\n        \"min\": 1.52,\n        \"max\": 1.617,\n        \"num_unique_values\": 3,\n        \"samples\": [\n          1.52,\n          1.617,\n          1.572\n        ],\n        \"semantic_type\": \"\",\n        \"description\": \"\"\n      }\n    },\n    {\n      \"column\": \"Healthy life expectancy\",\n      \"properties\": {\n        \"dtype\": \"number\",\n        \"std\": 0.012288205727444518,\n        \"min\": 0.695,\n        \"max\": 0.718,\n        \"num_unique_values\": 3,\n        \"samples\": [\n          0.699,\n          0.718,\n          0.695\n        ],\n        \"semantic_type\": \"\",\n        \"description\": \"\"\n      }\n    },\n    {\n      \"column\": \"Freedom to make life choices\",\n      \"properties\": {\n        \"dtype\": \"number\",\n        \"std\": 0.022030282189144428,\n        \"min\": 0.819,\n        \"max\": 0.859,\n        \"num_unique_values\": 3,\n        \"samples\": [\n          0.823,\n          0.819,\n          0.859\n        ],\n        \"semantic_type\": \"\",\n        \"description\": \"\"\n      }\n    },\n    {\n      \"column\": \"Generosity\",\n      \"properties\": {\n        \"dtype\": \"number\",\n        \"std\": 0.05804595880277398,\n        \"min\": 0.142,\n        \"max\": 0.258,\n        \"num_unique_values\": 3,\n        \"samples\": [\n          0.204,\n          0.258,\n          0.142\n        ],\n        \"semantic_type\": \"\",\n        \"description\": \"\"\n      }\n    },\n    {\n      \"column\": \"Perceptions of corruption\",\n      \"properties\": {\n        \"dtype\": \"number\",\n        \"std\": 0.21073522091319558,\n        \"min\": 0.182,\n        \"max\": 0.548,\n        \"num_unique_values\": 3,\n        \"samples\": [\n          0.548,\n          0.182,\n          0.546\n        ],\n        \"semantic_type\": \"\",\n        \"description\": \"\"\n      }\n    },\n    {\n      \"column\": \"Dystopia + residual\",\n      \"properties\": {\n        \"dtype\": \"number\",\n        \"std\": 0.10800154319885116,\n        \"min\": 1.881,\n        \"max\": 2.082,\n        \"num_unique_values\": 3,\n        \"samples\": [\n          1.881,\n          2.05,\n          2.082\n        ],\n        \"semantic_type\": \"\",\n        \"description\": \"\"\n      }\n    }\n  ]\n}"
            }
          },
          "metadata": {},
          "execution_count": 145
        }
      ]
    },
    {
      "cell_type": "markdown",
      "source": [
        "Adding New Columns:\n",
        " 1. Create a new column called Happiness Category that categorizes countries into three categories\n",
        " based on their Score:\n",
        " Low −(Score < 4)\n",
        " Medium −(4 ≤ Score ≤ 6)\n",
        " High −(Score > 6)"
      ],
      "metadata": {
        "id": "_OZA3aTB9qDm"
      }
    },
    {
      "cell_type": "code",
      "source": [
        "\n",
        "# here the happiness column is created to see the countires happiness score\n",
        "# we can do it by using apply() function where with a score less than 4 were low,\n",
        "# between 4 and 6 were Medium and greater than 6 were High.\n",
        "\n",
        "#(1)Create a new column called Happiness Category that categorizes countries\n",
        "# into three categories based on their Score:\n",
        "def happiness_Categorgy(score):\n",
        "  if (score<4):\n",
        "    return \"Low\"\n",
        "  elif (4<=score<=6):\n",
        "    return \"Medium\"\n",
        "  else:\n",
        "    return \"High\"\n",
        "\n",
        "worldHappiness['Happiness Category'] = worldHappiness['score'].apply(happiness_Categorgy)\n",
        "\n",
        "print(\"Countries based on happinesss score:\\n\")\n",
        "worldHappiness[['Country name','score','Happiness Category']]"
      ],
      "metadata": {
        "colab": {
          "base_uri": "https://localhost:8080/",
          "height": 458
        },
        "id": "fDVKdecP9lA-",
        "outputId": "46d5a176-e96e-4608-fc7f-1f983e351878"
      },
      "execution_count": 146,
      "outputs": [
        {
          "output_type": "stream",
          "name": "stdout",
          "text": [
            "Countries based on happinesss score:\n",
            "\n"
          ]
        },
        {
          "output_type": "execute_result",
          "data": {
            "text/plain": [
              "         Country name  score Happiness Category\n",
              "0             Finland  7.741               High\n",
              "1             Denmark  7.583               High\n",
              "2             Iceland  7.525               High\n",
              "3              Sweden  7.344               High\n",
              "4              Israel  7.341               High\n",
              "..                ...    ...                ...\n",
              "138  Congo (Kinshasa)  3.295                Low\n",
              "139      Sierra Leone  3.245                Low\n",
              "140           Lesotho  3.186                Low\n",
              "141           Lebanon  2.707                Low\n",
              "142       Afghanistan  1.721                Low\n",
              "\n",
              "[143 rows x 3 columns]"
            ],
            "text/html": [
              "\n",
              "  <div id=\"df-e4e35b9d-3c9a-4f55-a2f0-91cfbb8701b1\" class=\"colab-df-container\">\n",
              "    <div>\n",
              "<style scoped>\n",
              "    .dataframe tbody tr th:only-of-type {\n",
              "        vertical-align: middle;\n",
              "    }\n",
              "\n",
              "    .dataframe tbody tr th {\n",
              "        vertical-align: top;\n",
              "    }\n",
              "\n",
              "    .dataframe thead th {\n",
              "        text-align: right;\n",
              "    }\n",
              "</style>\n",
              "<table border=\"1\" class=\"dataframe\">\n",
              "  <thead>\n",
              "    <tr style=\"text-align: right;\">\n",
              "      <th></th>\n",
              "      <th>Country name</th>\n",
              "      <th>score</th>\n",
              "      <th>Happiness Category</th>\n",
              "    </tr>\n",
              "  </thead>\n",
              "  <tbody>\n",
              "    <tr>\n",
              "      <th>0</th>\n",
              "      <td>Finland</td>\n",
              "      <td>7.741</td>\n",
              "      <td>High</td>\n",
              "    </tr>\n",
              "    <tr>\n",
              "      <th>1</th>\n",
              "      <td>Denmark</td>\n",
              "      <td>7.583</td>\n",
              "      <td>High</td>\n",
              "    </tr>\n",
              "    <tr>\n",
              "      <th>2</th>\n",
              "      <td>Iceland</td>\n",
              "      <td>7.525</td>\n",
              "      <td>High</td>\n",
              "    </tr>\n",
              "    <tr>\n",
              "      <th>3</th>\n",
              "      <td>Sweden</td>\n",
              "      <td>7.344</td>\n",
              "      <td>High</td>\n",
              "    </tr>\n",
              "    <tr>\n",
              "      <th>4</th>\n",
              "      <td>Israel</td>\n",
              "      <td>7.341</td>\n",
              "      <td>High</td>\n",
              "    </tr>\n",
              "    <tr>\n",
              "      <th>...</th>\n",
              "      <td>...</td>\n",
              "      <td>...</td>\n",
              "      <td>...</td>\n",
              "    </tr>\n",
              "    <tr>\n",
              "      <th>138</th>\n",
              "      <td>Congo (Kinshasa)</td>\n",
              "      <td>3.295</td>\n",
              "      <td>Low</td>\n",
              "    </tr>\n",
              "    <tr>\n",
              "      <th>139</th>\n",
              "      <td>Sierra Leone</td>\n",
              "      <td>3.245</td>\n",
              "      <td>Low</td>\n",
              "    </tr>\n",
              "    <tr>\n",
              "      <th>140</th>\n",
              "      <td>Lesotho</td>\n",
              "      <td>3.186</td>\n",
              "      <td>Low</td>\n",
              "    </tr>\n",
              "    <tr>\n",
              "      <th>141</th>\n",
              "      <td>Lebanon</td>\n",
              "      <td>2.707</td>\n",
              "      <td>Low</td>\n",
              "    </tr>\n",
              "    <tr>\n",
              "      <th>142</th>\n",
              "      <td>Afghanistan</td>\n",
              "      <td>1.721</td>\n",
              "      <td>Low</td>\n",
              "    </tr>\n",
              "  </tbody>\n",
              "</table>\n",
              "<p>143 rows × 3 columns</p>\n",
              "</div>\n",
              "    <div class=\"colab-df-buttons\">\n",
              "\n",
              "  <div class=\"colab-df-container\">\n",
              "    <button class=\"colab-df-convert\" onclick=\"convertToInteractive('df-e4e35b9d-3c9a-4f55-a2f0-91cfbb8701b1')\"\n",
              "            title=\"Convert this dataframe to an interactive table.\"\n",
              "            style=\"display:none;\">\n",
              "\n",
              "  <svg xmlns=\"http://www.w3.org/2000/svg\" height=\"24px\" viewBox=\"0 -960 960 960\">\n",
              "    <path d=\"M120-120v-720h720v720H120Zm60-500h600v-160H180v160Zm220 220h160v-160H400v160Zm0 220h160v-160H400v160ZM180-400h160v-160H180v160Zm440 0h160v-160H620v160ZM180-180h160v-160H180v160Zm440 0h160v-160H620v160Z\"/>\n",
              "  </svg>\n",
              "    </button>\n",
              "\n",
              "  <style>\n",
              "    .colab-df-container {\n",
              "      display:flex;\n",
              "      gap: 12px;\n",
              "    }\n",
              "\n",
              "    .colab-df-convert {\n",
              "      background-color: #E8F0FE;\n",
              "      border: none;\n",
              "      border-radius: 50%;\n",
              "      cursor: pointer;\n",
              "      display: none;\n",
              "      fill: #1967D2;\n",
              "      height: 32px;\n",
              "      padding: 0 0 0 0;\n",
              "      width: 32px;\n",
              "    }\n",
              "\n",
              "    .colab-df-convert:hover {\n",
              "      background-color: #E2EBFA;\n",
              "      box-shadow: 0px 1px 2px rgba(60, 64, 67, 0.3), 0px 1px 3px 1px rgba(60, 64, 67, 0.15);\n",
              "      fill: #174EA6;\n",
              "    }\n",
              "\n",
              "    .colab-df-buttons div {\n",
              "      margin-bottom: 4px;\n",
              "    }\n",
              "\n",
              "    [theme=dark] .colab-df-convert {\n",
              "      background-color: #3B4455;\n",
              "      fill: #D2E3FC;\n",
              "    }\n",
              "\n",
              "    [theme=dark] .colab-df-convert:hover {\n",
              "      background-color: #434B5C;\n",
              "      box-shadow: 0px 1px 3px 1px rgba(0, 0, 0, 0.15);\n",
              "      filter: drop-shadow(0px 1px 2px rgba(0, 0, 0, 0.3));\n",
              "      fill: #FFFFFF;\n",
              "    }\n",
              "  </style>\n",
              "\n",
              "    <script>\n",
              "      const buttonEl =\n",
              "        document.querySelector('#df-e4e35b9d-3c9a-4f55-a2f0-91cfbb8701b1 button.colab-df-convert');\n",
              "      buttonEl.style.display =\n",
              "        google.colab.kernel.accessAllowed ? 'block' : 'none';\n",
              "\n",
              "      async function convertToInteractive(key) {\n",
              "        const element = document.querySelector('#df-e4e35b9d-3c9a-4f55-a2f0-91cfbb8701b1');\n",
              "        const dataTable =\n",
              "          await google.colab.kernel.invokeFunction('convertToInteractive',\n",
              "                                                    [key], {});\n",
              "        if (!dataTable) return;\n",
              "\n",
              "        const docLinkHtml = 'Like what you see? Visit the ' +\n",
              "          '<a target=\"_blank\" href=https://colab.research.google.com/notebooks/data_table.ipynb>data table notebook</a>'\n",
              "          + ' to learn more about interactive tables.';\n",
              "        element.innerHTML = '';\n",
              "        dataTable['output_type'] = 'display_data';\n",
              "        await google.colab.output.renderOutput(dataTable, element);\n",
              "        const docLink = document.createElement('div');\n",
              "        docLink.innerHTML = docLinkHtml;\n",
              "        element.appendChild(docLink);\n",
              "      }\n",
              "    </script>\n",
              "  </div>\n",
              "\n",
              "\n",
              "<div id=\"df-ac9bac88-fde1-4cf1-9452-eb20c9d1076b\">\n",
              "  <button class=\"colab-df-quickchart\" onclick=\"quickchart('df-ac9bac88-fde1-4cf1-9452-eb20c9d1076b')\"\n",
              "            title=\"Suggest charts\"\n",
              "            style=\"display:none;\">\n",
              "\n",
              "<svg xmlns=\"http://www.w3.org/2000/svg\" height=\"24px\"viewBox=\"0 0 24 24\"\n",
              "     width=\"24px\">\n",
              "    <g>\n",
              "        <path d=\"M19 3H5c-1.1 0-2 .9-2 2v14c0 1.1.9 2 2 2h14c1.1 0 2-.9 2-2V5c0-1.1-.9-2-2-2zM9 17H7v-7h2v7zm4 0h-2V7h2v10zm4 0h-2v-4h2v4z\"/>\n",
              "    </g>\n",
              "</svg>\n",
              "  </button>\n",
              "\n",
              "<style>\n",
              "  .colab-df-quickchart {\n",
              "      --bg-color: #E8F0FE;\n",
              "      --fill-color: #1967D2;\n",
              "      --hover-bg-color: #E2EBFA;\n",
              "      --hover-fill-color: #174EA6;\n",
              "      --disabled-fill-color: #AAA;\n",
              "      --disabled-bg-color: #DDD;\n",
              "  }\n",
              "\n",
              "  [theme=dark] .colab-df-quickchart {\n",
              "      --bg-color: #3B4455;\n",
              "      --fill-color: #D2E3FC;\n",
              "      --hover-bg-color: #434B5C;\n",
              "      --hover-fill-color: #FFFFFF;\n",
              "      --disabled-bg-color: #3B4455;\n",
              "      --disabled-fill-color: #666;\n",
              "  }\n",
              "\n",
              "  .colab-df-quickchart {\n",
              "    background-color: var(--bg-color);\n",
              "    border: none;\n",
              "    border-radius: 50%;\n",
              "    cursor: pointer;\n",
              "    display: none;\n",
              "    fill: var(--fill-color);\n",
              "    height: 32px;\n",
              "    padding: 0;\n",
              "    width: 32px;\n",
              "  }\n",
              "\n",
              "  .colab-df-quickchart:hover {\n",
              "    background-color: var(--hover-bg-color);\n",
              "    box-shadow: 0 1px 2px rgba(60, 64, 67, 0.3), 0 1px 3px 1px rgba(60, 64, 67, 0.15);\n",
              "    fill: var(--button-hover-fill-color);\n",
              "  }\n",
              "\n",
              "  .colab-df-quickchart-complete:disabled,\n",
              "  .colab-df-quickchart-complete:disabled:hover {\n",
              "    background-color: var(--disabled-bg-color);\n",
              "    fill: var(--disabled-fill-color);\n",
              "    box-shadow: none;\n",
              "  }\n",
              "\n",
              "  .colab-df-spinner {\n",
              "    border: 2px solid var(--fill-color);\n",
              "    border-color: transparent;\n",
              "    border-bottom-color: var(--fill-color);\n",
              "    animation:\n",
              "      spin 1s steps(1) infinite;\n",
              "  }\n",
              "\n",
              "  @keyframes spin {\n",
              "    0% {\n",
              "      border-color: transparent;\n",
              "      border-bottom-color: var(--fill-color);\n",
              "      border-left-color: var(--fill-color);\n",
              "    }\n",
              "    20% {\n",
              "      border-color: transparent;\n",
              "      border-left-color: var(--fill-color);\n",
              "      border-top-color: var(--fill-color);\n",
              "    }\n",
              "    30% {\n",
              "      border-color: transparent;\n",
              "      border-left-color: var(--fill-color);\n",
              "      border-top-color: var(--fill-color);\n",
              "      border-right-color: var(--fill-color);\n",
              "    }\n",
              "    40% {\n",
              "      border-color: transparent;\n",
              "      border-right-color: var(--fill-color);\n",
              "      border-top-color: var(--fill-color);\n",
              "    }\n",
              "    60% {\n",
              "      border-color: transparent;\n",
              "      border-right-color: var(--fill-color);\n",
              "    }\n",
              "    80% {\n",
              "      border-color: transparent;\n",
              "      border-right-color: var(--fill-color);\n",
              "      border-bottom-color: var(--fill-color);\n",
              "    }\n",
              "    90% {\n",
              "      border-color: transparent;\n",
              "      border-bottom-color: var(--fill-color);\n",
              "    }\n",
              "  }\n",
              "</style>\n",
              "\n",
              "  <script>\n",
              "    async function quickchart(key) {\n",
              "      const quickchartButtonEl =\n",
              "        document.querySelector('#' + key + ' button');\n",
              "      quickchartButtonEl.disabled = true;  // To prevent multiple clicks.\n",
              "      quickchartButtonEl.classList.add('colab-df-spinner');\n",
              "      try {\n",
              "        const charts = await google.colab.kernel.invokeFunction(\n",
              "            'suggestCharts', [key], {});\n",
              "      } catch (error) {\n",
              "        console.error('Error during call to suggestCharts:', error);\n",
              "      }\n",
              "      quickchartButtonEl.classList.remove('colab-df-spinner');\n",
              "      quickchartButtonEl.classList.add('colab-df-quickchart-complete');\n",
              "    }\n",
              "    (() => {\n",
              "      let quickchartButtonEl =\n",
              "        document.querySelector('#df-ac9bac88-fde1-4cf1-9452-eb20c9d1076b button');\n",
              "      quickchartButtonEl.style.display =\n",
              "        google.colab.kernel.accessAllowed ? 'block' : 'none';\n",
              "    })();\n",
              "  </script>\n",
              "</div>\n",
              "\n",
              "    </div>\n",
              "  </div>\n"
            ],
            "application/vnd.google.colaboratory.intrinsic+json": {
              "type": "dataframe",
              "summary": "{\n  \"name\": \"worldHappiness[['Country name','score','Happiness Category']]\",\n  \"rows\": 143,\n  \"fields\": [\n    {\n      \"column\": \"Country name\",\n      \"properties\": {\n        \"dtype\": \"string\",\n        \"num_unique_values\": 143,\n        \"samples\": [\n          \"Myanmar\",\n          \"United Kingdom\",\n          \"South Africa\"\n        ],\n        \"semantic_type\": \"\",\n        \"description\": \"\"\n      }\n    },\n    {\n      \"column\": \"score\",\n      \"properties\": {\n        \"dtype\": \"number\",\n        \"std\": 1.1707165099442995,\n        \"min\": 1.721,\n        \"max\": 7.741,\n        \"num_unique_values\": 140,\n        \"samples\": [\n          4.505,\n          5.823,\n          6.491\n        ],\n        \"semantic_type\": \"\",\n        \"description\": \"\"\n      }\n    },\n    {\n      \"column\": \"Happiness Category\",\n      \"properties\": {\n        \"dtype\": \"category\",\n        \"num_unique_values\": 3,\n        \"samples\": [\n          \"High\",\n          \"Medium\",\n          \"Low\"\n        ],\n        \"semantic_type\": \"\",\n        \"description\": \"\"\n      }\n    }\n  ]\n}"
            }
          },
          "metadata": {},
          "execution_count": 146
        }
      ]
    },
    {
      "cell_type": "markdown",
      "source": [
        " 2. Data Visualizations:\n",
        " • Bar Plot: Plot the top 10 happiest countries by Score using a bar chart.\n"
      ],
      "metadata": {
        "id": "PUPT77I--JXd"
      }
    },
    {
      "cell_type": "code",
      "source": [
        "#2. Data Visualizations:\n",
        "# here as we can see that the bar chart shows us the ranking of top 10 happiest\n",
        "# countries, providing us charts to compare happiness score.\n",
        "#Bar Plot: Plot the top 10 happiest countries by Score using a bar chart.\n",
        "import matplotlib.pyplot as plt\n",
        "import seaborn as sns\n",
        "\n",
        "# Sort data by score\n",
        "Top_10_happiest = worldHappiness.sort_values(by='score', ascending=False).head(10)\n",
        "\n",
        "# Create a bar plot\n",
        "plt.figure(figsize=(10, 6))\n",
        "sns.barplot(x='Country name', y='score',hue='score',data=Top_10_happiest, palette='Blues')\n",
        "plt.title('Top 10 Happiest Countries by Score', fontsize=16)\n",
        "plt.xlabel('Country name', fontsize=12)\n",
        "plt.ylabel('Happiness score', fontsize=12)\n",
        "\n",
        "plt.show()"
      ],
      "metadata": {
        "colab": {
          "base_uri": "https://localhost:8080/",
          "height": 570
        },
        "id": "HudfeOl9-I0l",
        "outputId": "996b2fd4-5371-4d03-a32e-90d2f6c2279e"
      },
      "execution_count": 147,
      "outputs": [
        {
          "output_type": "display_data",
          "data": {
            "text/plain": [
              "<Figure size 1000x600 with 1 Axes>"
            ],
            "image/png": "[encoded data removed]"
          },
          "metadata": {}
        }
      ]
    },
    {
      "cell_type": "markdown",
      "source": [
        " Line Plot: Plot the top 10 unhappiest countries by Score using a Line chart"
      ],
      "metadata": {
        "id": "JPReeJb7_Pmz"
      }
    },
    {
      "cell_type": "code",
      "source": [
        "#  The line chart provides a visualization of representation of 10 unhappiest\n",
        "# countries, where we can compare low happiness scores.\n",
        "#Line Plot: Plot the top 10 unhappiest countries by Score using a Line chart.\n",
        "top_10_unhappiestCountry = worldHappiness.sort_values(by='score',ascending=True).head(10)\n",
        "plt.figure(figsize=(10,6))\n",
        "plt.plot(top_10_unhappiestCountry['Country name'],top_10_unhappiestCountry['score'],marker='o',color='yellow',linewidth=2)\n",
        "plt.title('Top 10 Unhappiest Countries', fontsize=16)\n",
        "plt.xlabel('\\nCountry Name', fontsize=12)\n",
        "plt.ylabel('Happiness Score', fontsize=12)\n",
        "plt.show()"
      ],
      "metadata": {
        "colab": {
          "base_uri": "https://localhost:8080/",
          "height": 591
        },
        "id": "emo4kdu1_bFP",
        "outputId": "d546337e-3826-423a-dab9-51946b1f9220"
      },
      "execution_count": 148,
      "outputs": [
        {
          "output_type": "display_data",
          "data": {
            "text/plain": [
              "<Figure size 1000x600 with 1 Axes>"
            ],
            "image/png": "[encoded data removed]"
          },
          "metadata": {}
        }
      ]
    },
    {
      "cell_type": "markdown",
      "source": [
        " Plot a histogram for the Score column to show its distribution and also interpret."
      ],
      "metadata": {
        "id": "8XjPoWlk_UDU"
      }
    },
    {
      "cell_type": "code",
      "source": [
        "#Histogram effectively shows the distribution of happines scores,\n",
        "#Plot a histogram for the Score column to show its distribution and also interpret.\n",
        "plt.figure(figsize=(10,6))\n",
        "sns.histplot(worldHappiness['score'], bins=20, kde=True, color='red')\n",
        "plt.title('Distribution of Happiness Scores',fontsize=16)\n",
        "plt.xlabel('Happiness score',fontsize=12)\n",
        "plt.ylabel('Frequency',fontsize=12)\n",
        "\n",
        "plt.show()"
      ],
      "metadata": {
        "colab": {
          "base_uri": "https://localhost:8080/",
          "height": 570
        },
        "id": "LtB8cv_0_6eM",
        "outputId": "cc587cf3-3371-47d4-df65-5c5186873dcb"
      },
      "execution_count": 149,
      "outputs": [
        {
          "output_type": "display_data",
          "data": {
            "text/plain": [
              "<Figure size 1000x600 with 1 Axes>"
            ],
            "image/png": "[encoded data removed]"
          },
          "metadata": {}
        }
      ]
    },
    {
      "cell_type": "markdown",
      "source": [
        " Scatter Plot: Plot a scatter plot between GDP per Capita and Score to visualize their relationship"
      ],
      "metadata": {
        "id": "vwxhYS3O_ZzQ"
      }
    },
    {
      "cell_type": "code",
      "source": [
        "# here scatter plot provides an super clear visual of How GDP per capita relates\n",
        "# to the happiness scores.\n",
        "#Scatter Plot: Plot a scatter plot between GDP per Capita and Score to\n",
        "#visualize their relationship.\n",
        "plt.figure(figsize=(10,6))\n",
        "sns.scatterplot(x='Log GDP per capita',y='score',hue='score',data=worldHappiness,palette='viridis',s=100)\n",
        "\n",
        "plt.title(\"Relationship Between GDP per Capita and Happiness Score\",fontsize=16)\n",
        "plt.xlabel('GDP per Capita',fontsize=12)\n",
        "plt.ylabel('Happiness Score',fontsize=12)\n",
        "\n",
        "plt.show()"
      ],
      "metadata": {
        "colab": {
          "base_uri": "https://localhost:8080/"
        },
        "id": "Hg35Eyq2_OV4",
        "outputId": "f2d50841-5cef-4d64-eacd-31d71e000b40"
      },
      "execution_count": 150,
      "outputs": [
        {
          "output_type": "display_data",
          "data": {
            "text/plain": [
              "<Figure size 1000x600 with 1 Axes>"
            ],
            "image/png": "[encoded data removed]"
          },
          "metadata": {}
        }
      ]
    },
    {
      "cell_type": "markdown",
      "source": [
        " Task- 1- Setup Task- Preparing the South-Asia Dataset:\n",
        " Steps:\n",
        " 1. Define the countries in South Asia with a list for example:\n",
        " south asian countries = [\"Afghanistan\", \"Bangladesh\", \"Bhutan\", \"India\",\n",
        " \"Maldives\", \"Nepal\", \"Pakistan\", \"Srilanka\"]\n",
        " 2. Use the list from step- 1 to filtered the dataset {i.e. filtered out matching dataset from list.}\n",
        " 3. Save the filtered dataframe as separate CSV files for future use"
      ],
      "metadata": {
        "id": "35MSYxkMEGu3"
      }
    },
    {
      "cell_type": "code",
      "source": [
        "#problem 2\n",
        "#Task - 1 - Setup Task - Preparing the South-Asia Dataset:\n",
        "#This task is for more specific analysis related to Southasian countries.\n",
        "import pandas as pd\n",
        "south_asian_countries = [\n",
        "    \"Afghanistan\", \"Bangladesh\", \"Bhutan\", \"India\",\n",
        "    \"Maldives\", \"Nepal\", \"Pakistan\", \"Sri Lanka\"\n",
        "]\n",
        "\n",
        "# Step 2: Load the dataset (replace 'dataset.csv' with your actual file path)\n",
        "data = pd.read_csv('/content/drive/MyDrive/jupyter/WHR-2024-5CS037.csv')\n",
        "\n",
        "# Step 3: Filter the dataset for South Asian countries\n",
        "south_asia_data = data[data['Country name'].isin(south_asian_countries)]\n",
        "\n",
        "# Step 4: Save the filtered dataframe as a separate CSV file\n",
        "south_asia_data.to_csv('south_asia_dataset.csv', index=False)\n",
        "\n",
        "print(\"South Asia dataset has been successfully created and saved as 'south_asia_dataset.csv'.\")"
      ],
      "metadata": {
        "colab": {
          "base_uri": "https://localhost:8080/"
        },
        "id": "HfBNHQIwELMg",
        "outputId": "65e4a330-ea49-4b46-eb4d-a0d303466dda"
      },
      "execution_count": 151,
      "outputs": [
        {
          "output_type": "stream",
          "name": "stdout",
          "text": [
            "South Asia dataset has been successfully created and saved as 'south_asia_dataset.csv'.\n"
          ]
        }
      ]
    },
    {
      "cell_type": "markdown",
      "source": [
        " Task- 2- Composite Score Ranking:\n",
        " Tasks:\n",
        " 1. Using the SouthAsia DataFrame, create a new column called Composite Score that combines the\n",
        " following metrics:\n",
        " Composite Score = 0.40×GDP per Capita+0.30×Social Support\n",
        " +0.30 ×Healthy Life Expectancy\n",
        " 2. Rank the South Asian countries based on the Composite Score in descending order.\n",
        " 3. Visualize the top 5 countries using a horizontal bar chart showing the Composite Score.\n",
        " 4. Discuss whether the rankings based on the Composite Score align with the original Score- support your\n",
        " discussion with some visualization plot"
      ],
      "metadata": {
        "id": "tF8Apjk5FFg6"
      }
    },
    {
      "cell_type": "code",
      "source": [
        "# Task-2: Composite Score Ranking\n",
        "#Here we are calculating Composite Score where we create single number that comes\n",
        "# after combining all given factors .\n",
        "\n",
        "# (2): Rank the South Asian countries based on the Composite Score in descending order.\n",
        "# Creating the Composite Score\n",
        "# This is just for easier analysis with high composite score with of GDP, Social\n",
        "# SUPPORT AND HEALTH\n",
        "south_asia_data['Composite Score'] = (\n",
        "    0.40 * south_asia_data['Log GDP per capita'] +\n",
        "    0.30 * south_asia_data['Social support'] +\n",
        "    0.30 * south_asia_data['Healthy life expectancy']\n",
        ")\n",
        "\n",
        "print(south_asia_data[['Country name', 'Log GDP per capita',\n",
        "                       'Social support', 'Healthy life expectancy',\n",
        "                       'Composite Score']])\n",
        "print('\\n')\n",
        "south_asia_data = south_asia_data.sort_values(by='Composite Score',ascending=False)\n",
        "\n",
        "print(\"Ranked South Asian Countries based on Composite Score:\\n\")\n",
        "print(south_asia_data[['Country name','Composite Score']])\n",
        "\n"
      ],
      "metadata": {
        "colab": {
          "base_uri": "https://localhost:8080/"
        },
        "id": "kk6oF6wsFG2_",
        "outputId": "f70e2c6b-d863-43ec-81d5-1df84ddae0eb"
      },
      "execution_count": 152,
      "outputs": [
        {
          "output_type": "stream",
          "name": "stdout",
          "text": [
            "    Country name  Log GDP per capita  Social support  Healthy life expectancy  \\\n",
            "92         Nepal               0.965           0.990                    0.443   \n",
            "107     Pakistan               1.069           0.600                    0.321   \n",
            "125        India               1.166           0.653                    0.417   \n",
            "127    Sri Lanka               1.361           1.179                    0.586   \n",
            "128   Bangladesh               1.122           0.249                    0.513   \n",
            "142  Afghanistan               0.628           0.000                    0.242   \n",
            "\n",
            "     Composite Score  \n",
            "92            0.8159  \n",
            "107           0.7039  \n",
            "125           0.7874  \n",
            "127           1.0739  \n",
            "128           0.6774  \n",
            "142           0.3238  \n",
            "\n",
            "\n",
            "Ranked South Asian Countries based on Composite Score:\n",
            "\n",
            "    Country name  Composite Score\n",
            "127    Sri Lanka           1.0739\n",
            "92         Nepal           0.8159\n",
            "125        India           0.7874\n",
            "107     Pakistan           0.7039\n",
            "128   Bangladesh           0.6774\n",
            "142  Afghanistan           0.3238\n"
          ]
        },
        {
          "output_type": "stream",
          "name": "stderr",
          "text": [
            "<ipython-input-152-d3798ef44c41>:9: SettingWithCopyWarning: \n",
            "A value is trying to be set on a copy of a slice from a DataFrame.\n",
            "Try using .loc[row_indexer,col_indexer] = value instead\n",
            "\n",
            "See the caveats in the documentation: https://pandas.pydata.org/pandas-docs/stable/user_guide/indexing.html#returning-a-view-versus-a-copy\n",
            "  south_asia_data['Composite Score'] = (\n"
          ]
        }
      ]
    },
    {
      "cell_type": "code",
      "source": [
        "import seaborn as sns\n",
        "import matplotlib.pyplot as plt\n",
        "\n",
        "top_5_countries = south_asia_data.head(5)\n",
        "\n",
        "#3. Visualize the top 5 countries using a horizontal bar chart showing the Composite Score.\n",
        "# here the horizontal bar chart allows us to see the top 5 South asian countries\n",
        "# based on the composite score\n",
        "plt.figure(figsize=(10, 6))\n",
        "\n",
        "#Create the horizontal bar plot using seaborn\n",
        "sns.barplot(x=top_5_countries['Composite Score'], y=top_5_countries['Country name'],hue=top_5_countries['score'], palette='coolwarm')\n",
        "\n",
        "#Set plot title and labels\n",
        "plt.title('Top 5 South Asian Countries by Composite Score', fontsize=16)\n",
        "plt.xlabel('Composite Score', fontsize=12)\n",
        "plt.ylabel('Country', fontsize=12)\n",
        "\n",
        "#Show the plot\n",
        "plt.show()"
      ],
      "metadata": {
        "colab": {
          "base_uri": "https://localhost:8080/"
        },
        "id": "S87-OTHHPPM8",
        "outputId": "1b9195b5-6bd6-42a8-b10d-54cb75c82a38"
      },
      "execution_count": 153,
      "outputs": [
        {
          "output_type": "display_data",
          "data": {
            "text/plain": [
              "<Figure size 1000x600 with 1 Axes>"
            ],
            "image/png": "[encoded data removed]"
          },
          "metadata": {}
        }
      ]
    },
    {
      "cell_type": "code",
      "source": [
        "#4 Discuss whether the rankings based on the Composite Score align with the original Score - support your\n",
        "#discussion with some visualization plot.\n",
        "# Scatter plot provides that how well the composite score relate with\n",
        "# the happiness score\n",
        "\n",
        "plt.figure(figsize=(10, 6))\n",
        "sns.scatterplot(x='Composite Score',y='score',data=south_asia_data,hue='Country name',s=100)\n",
        "plt.title('Comparison of Composite Score and Original Score for South Asian Countries',fontsize=16)\n",
        "plt.xlabel('Composite Score', fontsize=12)\n",
        "plt.ylabel('Original Score', fontsize=12)\n",
        "\n",
        "plt.show()"
      ],
      "metadata": {
        "id": "-QeZrvYpSRFh"
      },
      "execution_count": null,
      "outputs": []
    },
    {
      "cell_type": "markdown",
      "source": [
        "Task- 3- Outlier Detection:\n",
        " Tasks:\n",
        " 1. Identify outlier countries in South Asia based on their Score and GDP per Capita.\n",
        " 2. Define outliers using the 1.5 × IQR rule."
      ],
      "metadata": {
        "id": "qBaV9PnrFHMM"
      }
    },
    {
      "cell_type": "code",
      "source": [
        "\n",
        "#1. Identify outlier countries in South Asia based on their Score and GDP per Capita.\n",
        "# here we are calculating 1st and 3rd quartile this is basically used for calculating\n",
        "# spread middle 50% of the data\n",
        "Q1_score = south_asia_data['score'].quantile(0.25)\n",
        "Q3_score = south_asia_data['score'].quantile(0.75)\n",
        "IQR_score = Q3_score - Q1_score\n",
        "\n",
        "Q1_gdp = south_asia_data['Log GDP per capita'].quantile(0.25)\n",
        "Q3_gdp = south_asia_data['Log GDP per capita'].quantile(0.75)\n",
        "IQR_gdp = Q3_gdp - Q1_gdp\n",
        "\n",
        "# 2.Define outliers using the 1.5 × IQR rule.\n",
        "#here outliers is used for detecting outliers in the dataset  and it is easy to\n",
        "# calculate and interpret and it is a datapoints which can  indicate errors\n",
        "# proper handling it can lead to more accurate insights and predictions.\n",
        "outlier_score_lower = Q1_score - 1.5 * IQR_score\n",
        "outlier_score_upper = Q3_score + 1.5 * IQR_score\n",
        "outlier_gdp_lower = Q1_gdp - 1.5 * IQR_gdp\n",
        "outlier_gdp_upper = Q3_gdp + 1.5 * IQR_gdp\n",
        "\n",
        "# Identify outliers\n",
        "outliers = south_asia_data[\n",
        "    (south_asia_data['score'] < outlier_score_lower) |\n",
        "    (south_asia_data['score'] > outlier_score_upper) |\n",
        "    (south_asia_data['Log GDP per capita'] < outlier_gdp_lower) |\n",
        "    (south_asia_data['Log GDP per capita'] > outlier_gdp_upper)\n",
        "]\n"
      ],
      "metadata": {
        "id": "kTRbLHFyFLA8"
      },
      "execution_count": null,
      "outputs": []
    },
    {
      "cell_type": "markdown",
      "source": [
        "Create a scatter plot with GDP per Capita on the x-axis and Score on the y-axis, highlighting outliers in a different color."
      ],
      "metadata": {
        "id": "6CP9YkuyHOd3"
      }
    },
    {
      "cell_type": "code",
      "source": [
        "# 3. Create a scatter plot with GDP per Capita on the x-axis and Score on the y-axis, highlighting outliers in a different color.\n",
        "#here it visualizes the relationship between Log GDP per capita and score where\n",
        "# blue is representing non-outlier countries and red is ouside the bounds.\n",
        "plt.figure(figsize=(12, 8))\n",
        "\n",
        "# Plot non-outliers\n",
        "sns.scatterplot(\n",
        "    x='Log GDP per capita',\n",
        "    y='score',\n",
        "    data=south_asia_data[~south_asia_data.index.isin(outliers.index)],\n",
        "    label='Non-Outliers',\n",
        "    s=100\n",
        ")\n",
        "\n",
        "# Plot outliers\n",
        "sns.scatterplot(\n",
        "    x='Log GDP per capita',\n",
        "    y='score',\n",
        "    data=outliers,\n",
        "    label='Outliers',\n",
        "    color='red',\n",
        "    s=100\n",
        ")\n",
        "\n",
        "plt.title('Scatter Plot of GDP per Capita vs. Score (Outliers Highlighted)', fontsize=16)\n",
        "plt.xlabel('Log GDP per Capita', fontsize=12)\n",
        "plt.ylabel('Score', fontsize=12)\n",
        "\n",
        "\n",
        "plt.show()\n"
      ],
      "metadata": {
        "id": "ohWxoRaVHPLe"
      },
      "execution_count": null,
      "outputs": []
    },
    {
      "cell_type": "markdown",
      "source": [
        "Discuss the characteristics of these outliers and their potential impact on regional averages"
      ],
      "metadata": {
        "id": "VqbS4Qfeg7jy"
      }
    },
    {
      "cell_type": "code",
      "source": [
        "#Get the information about the outliers\n",
        "outliers_info = outliers[['Country name', 'Log GDP per capita', 'score']]\n",
        "\n",
        "print(\"Outlier Countries and Their Characteristics:\\n\")\n",
        "print(outliers)\n",
        "\n",
        "# (4): Discuss the characteristics of these outliers and their potential impact on regional averages.\n",
        "# Here, outliers countries are those that differ significantly from other, because of\n",
        "# very high or low values. They can strongly affect averages and measurements which  is\n",
        "# distorting the picture of regions."
      ],
      "metadata": {
        "id": "K_M4bymyg9KS"
      },
      "execution_count": null,
      "outputs": []
    },
    {
      "cell_type": "markdown",
      "source": [
        "Task- 4- Exploring Trends Across Metrics:\n",
        " Tasks:\n",
        " 1. Choose two metrics (e.g., Freedom to Make Life Choices and Generosity) and calculate their correlation\n",
        " {pearson correlation} with the Score for South Asian countries.\n",
        " 2. Create scatter plots with trendlines for these metrics against the Score.\n",
        " 3. Identify and discuss the strongest and weakest relationships between these metrics and the Score for\n",
        " South Asian countries"
      ],
      "metadata": {
        "id": "VTA3sxWQFLSH"
      }
    },
    {
      "cell_type": "code",
      "source": [
        "#here the pearson correlation measures the strength and direction of the relationship\n",
        "#between two variables. and if positive correlation score increases if negative\n",
        "# it decreases\n",
        "# 1. Calculate Pearson correlation\n",
        "# Choose two metrics: 'Freedom to make life choices' and 'Generosity'\n",
        "metric1 = 'Freedom to make life choices'\n",
        "metric2 = 'Generosity'\n",
        "\n",
        "correlation1 = south_asia_data['score'].corr(south_asia_data[metric1])\n",
        "correlation2 = south_asia_data['score'].corr(south_asia_data[metric2])\n",
        "\n",
        "print(f\"Pearson correlation between Score and {metric1}: {correlation1:.2f}\")\n",
        "print(f\"Pearson correlation between Score and {metric2}: {correlation2:.2f}\")\n"
      ],
      "metadata": {
        "id": "uAq9B-PVRBSs"
      },
      "execution_count": null,
      "outputs": []
    },
    {
      "cell_type": "code",
      "source": [
        "# 2. Create scatter plots with trendlines\n",
        "#it shows the distribution of data points for two chosen metrics against the\n",
        "#happiness score, this basically shows freedom to make life choices and generosity\n",
        "#which contribute to happiness score for south asian countries.\n",
        "# Scatter plot for Score vs. Freedom to make life choices\n",
        "plt.figure(figsize=(10, 6))\n",
        "sns.regplot(x=metric1, y='score', data=south_asia_data, scatter_kws={'s': 100})\n",
        "plt.title(f'Scatter Plot of Score vs {metric1}', fontsize=16)\n",
        "plt.xlabel(metric1, fontsize=12)\n",
        "plt.ylabel('Score', fontsize=12)\n",
        "plt.show()\n",
        "\n"
      ],
      "metadata": {
        "id": "0bG7kxPChh6h"
      },
      "execution_count": null,
      "outputs": []
    },
    {
      "cell_type": "code",
      "source": [
        "# Scatter plot for Score vs. Generosity\n",
        "plt.figure(figsize=(10, 6))\n",
        "sns.regplot(x=metric2, y='score', data=south_asia_data, scatter_kws={'s': 100})\n",
        "plt.title(f'Scatter Plot of Score vs {metric2}', fontsize=16)\n",
        "plt.xlabel(metric2, fontsize=12)\n",
        "plt.ylabel('Score', fontsize=12)\n",
        "plt.show()"
      ],
      "metadata": {
        "id": "bpTTSldQlE3V"
      },
      "execution_count": null,
      "outputs": []
    },
    {
      "cell_type": "code",
      "source": [
        "# Determine strongest and weakest relationships\n",
        "correlations = {\n",
        "    metric1: correlation1,\n",
        "    metric2: correlation2,\n",
        "}\n",
        "\n",
        "strongest_metric = max(correlations, key=correlations.get)\n",
        "weakest_metric = min(correlations, key=correlations.get)\n",
        "\n",
        "print(f\"\\nThe strongest relationship with Score is with {strongest_metric} (correlation: {correlations[strongest_metric]:.2f})\")\n",
        "print(f\"The weakest relationship with Score is with {weakest_metric} (correlation: {correlations[weakest_metric]:.2f})\")\n"
      ],
      "metadata": {
        "id": "CDy0Hr7dhZp3"
      },
      "execution_count": null,
      "outputs": []
    },
    {
      "cell_type": "code",
      "source": [
        "# Discuss relationships\n",
        "print(\"\\nDiscussion:\")\n",
        "print(f\"The Pearson correlation coefficient measures the linear relationship between two variables. A value close to +1 or -1 indicates a strong positive or negative correlation, respectively, while a value close to 0 indicates a weak or no linear correlation.\")\n",
        "print(f\"Based on the correlations calculated, {strongest_metric} has a relatively stronger relationship with the Score compared to {weakest_metric}.\")\n",
        "print(f\"The scatter plots with trendlines visually represent these relationships. The steeper the trendline, the stronger the relationship, while a flatter trendline suggests a weaker relationship.\")\n",
        "print(f\"It is important to note that correlation does not imply causation. Even if there is a strong correlation between a metric and the Score, it does not necessarily mean that the metric is causing the differences in the Score.\")"
      ],
      "metadata": {
        "id": "grFumy_Bhm_O"
      },
      "execution_count": null,
      "outputs": []
    },
    {
      "cell_type": "markdown",
      "source": [
        " Task- 5- Gap Analysis:\n",
        " Tasks:\n",
        " 1. Add a new column, GDP-Score Gap, which is the difference between GDP per Capita and the Score\n",
        " for each South Asian country.\n",
        " 2. Rank the South Asian countries by this gap in both ascending and descending order.\n",
        " 3. Highlight the top 3 countries with the largest positive and negative gaps using a bar chart.\n",
        " 4. Analyze the reasons behind these gaps and their implications for South Asian countries."
      ],
      "metadata": {
        "id": "LTQ3ntm5FOzD"
      }
    },
    {
      "cell_type": "code",
      "source": [
        "# 1. Add a new column, GDP-Score Gap\n",
        "south_asia_data['GDP-Score Gap'] = south_asia_data['Log GDP per capita'] - south_asia_data['score']"
      ],
      "metadata": {
        "id": "_zg0ZRs-T7O_"
      },
      "execution_count": null,
      "outputs": []
    },
    {
      "cell_type": "code",
      "source": [
        "# 2. Rank the South Asian countries by this gap in both ascending and descending order.\n",
        "south_asia_data_asc = south_asia_data.sort_values(by='GDP-Score Gap', ascending=True)\n",
        "south_asia_data_desc = south_asia_data.sort_values(by='GDP-Score Gap', ascending=False)\n",
        "\n",
        "print(\"South Asian Countries Ranked by GDP-Score Gap (Ascending):\\n\")\n",
        "print(south_asia_data_asc[['Country name', 'GDP-Score Gap']])\n",
        "print(\"\\nSouth Asian Countries Ranked by GDP-Score Gap (Descending):\\n\")\n",
        "print(south_asia_data_desc[['Country name', 'GDP-Score Gap']])"
      ],
      "metadata": {
        "id": "cOqdSVFch0-B"
      },
      "execution_count": null,
      "outputs": []
    },
    {
      "cell_type": "code",
      "source": [
        "#Get the 3 most negative and 3 least negative values\n",
        "top_positive_gap = south_asia_data_asc.head(3)\n",
        "top_negative_gap = south_asia_data_desc.head(3)\n",
        "\n",
        "#Combine both groups for visualization\n",
        "top_gaps = pd.concat([top_positive_gap, top_negative_gap])\n",
        "\n",
        "#Create a new column to categorize the gaps as 'positive' and ' Negative'\n",
        "top_gaps['Gap Type'] = top_gaps['GDP-Score Gap'].apply(lambda x: 'Positive' if x in top_positive_gap['GDP-Score Gap'].values else 'Negative')\n",
        "\n",
        "#Plot a bar chart highlighting the top 3 most negative and least negative GDP-Score gaps with different colors\n",
        "plt.figure(figsize=(10,6))\n",
        "sns.barplot(x='GDP-Score Gap', y='Country name', data=top_gaps, hue='Gap Type', palette={'Positive': 'yellow', 'Negative': 'black'})\n",
        "\n",
        "plt.title('Top 3 Most Positive and  Negative GDP-Score Gaps', fontsize=16)\n",
        "plt.xlabel('GDP-Score Gap', fontsize=12)\n",
        "plt.ylabel('Country', fontsize=12)\n",
        "plt.show()"
      ],
      "metadata": {
        "id": "M0EDu8iyh36b"
      },
      "execution_count": null,
      "outputs": []
    },
    {
      "cell_type": "code",
      "source": [
        "\n",
        "# 4. Analyze the reasons behind these gaps and their implications for South Asian countries.\n",
        "# here the GDP score gap is a measure of how well a country's economic prosperity\n",
        "# connects with the level of happiness . A positive gap means that it is high in\n",
        "# GDP but low in happiness and negative gap means high happiness and low GDP.\n",
        "# And the reason behind this is very simple involving various economic, social political, cultural factors."
      ],
      "metadata": {
        "id": "21Th0VFwh6lq"
      },
      "execution_count": null,
      "outputs": []
    },
    {
      "cell_type": "markdown",
      "source": [
        " 3.3 Problem- 3- Comparative Analysis:\n",
        " Task- 1- Setup Task- Preparing the Middle Eastern Dataset:\n",
        " Tasks:\n",
        " 1. Similar in Task- 1 of Problem 2 create a dataframe from middle eastern countries. For hint use the\n",
        " following list:\n",
        " middle east countries = [ \"Bahrain\", \"Iran\", \"Iraq\", \"Israel\", \"Jordan\",\n",
        " \"Kuwait\", \"Lebanon\", \"Oman\", \"Palestine\", \"Qatar\", \"Saudi Arabia\", \"Syria\",\n",
        " \"United Arab Emirates\", \"Yemen\"]\n",
        " Complete the following task:\n",
        " 1. Descriptive Statistics:\n",
        " • Calculate the mean, Standard deviation of the score for both South Asia and Middle East.\n",
        " • Which region has higher happiness Scores on average?"
      ],
      "metadata": {
        "id": "-mb4hmiHkBbq"
      }
    },
    {
      "cell_type": "code",
      "source": [
        "# Middle Eastern countries list\n",
        "middle_east_countries = [\n",
        "    \"Bahrain\", \"Iran\", \"Iraq\", \"Israel\", \"Jordan\",\n",
        "    \"Kuwait\", \"Lebanon\", \"Oman\", \"Palestine\", \"Qatar\",\n",
        "    \"Saudi Arabia\", \"Syria\", \"United Arab Emirates\", \"Yemen\"\n",
        "]\n",
        "\n",
        "# Filter the dataset for Middle Eastern countries\n",
        "middle_east_data = data[data['Country name'].isin(middle_east_countries)]\n",
        "\n",
        "# Save the filtered dataframe as a separate CSV file\n",
        "middle_east_data.to_csv('middle_east_dataset.csv', index=False)\n",
        "\n",
        "print(\"Middle East dataset has been successfully created and saved as 'middle_east_dataset.csv'.\")\n"
      ],
      "metadata": {
        "id": "UK-Vx_2RlTFi"
      },
      "execution_count": null,
      "outputs": []
    },
    {
      "cell_type": "code",
      "source": [
        "#Descriptive statistics here the task compares the happiness scores between SouthAsia\n",
        "#and the Middle by calculating mean and SD for each.\n",
        "\n",
        "#and higher mean means on average in the region people are happy.\n",
        "#and high SD means variability in happiness.\n",
        "middle_east_mean_score = middle_east_data['score'].mean()\n",
        "middle_east_std_score = middle_east_data['score'].std()\n",
        "\n",
        "print(f\"Middle East - Mean Score: {middle_east_mean_score:.2f}\")\n",
        "print(f\"Middle East - Standard Deviation of Score: {middle_east_std_score:.2f}\")\n",
        "\n",
        "# Load South Asia dataset\n",
        "south_asia_data = pd.read_csv('south_asia_dataset.csv')\n",
        "\n",
        "# Calculate descriptive statistics for South Asia\n",
        "south_asia_mean_score = south_asia_data['score'].mean()\n",
        "south_asia_std_score = south_asia_data['score'].std()\n",
        "\n",
        "print(f\"South Asia - Mean Score: {south_asia_mean_score:.2f}\")\n",
        "print(f\"South Asia - Standard Deviation of Score: {south_asia_std_score:.2f}\")\n",
        "\n",
        "# Compare mean scores\n",
        "if middle_east_mean_score > south_asia_mean_score:\n",
        "    print(\"Middle East has a higher average happiness score.\")\n",
        "elif south_asia_mean_score > middle_east_mean_score:\n",
        "    print(\"South Asia has a higher average happiness score.\")\n",
        "else:\n",
        "    print(\"Both regions have the same average happiness score.\")"
      ],
      "metadata": {
        "id": "VTmqb_6ulWzs"
      },
      "execution_count": null,
      "outputs": []
    },
    {
      "cell_type": "markdown",
      "source": [
        " 2. Top and Bottom Performers:\n",
        " • Identify the top 3 and bottom 3 countries in each region based on the score.\n",
        " • Plot bar charts comparing these charts"
      ],
      "metadata": {
        "id": "O_bu129qlfH2"
      }
    },
    {
      "cell_type": "code",
      "source": [
        "# Assuming the datasets are already loaded\n",
        "# here we will be identifying top 3 and bottom 3 countires in south asia and middle east\n",
        "#based on their happiness scores and putting result in bar charts.\n",
        "top3_south_asia = south_asia_data.nlargest(3, 'score')\n",
        "bottom3_south_asia = south_asia_data.nsmallest(3, 'score')\n",
        "\n",
        "top3_middle_east = middle_east_data.nlargest(3, 'score')\n",
        "bottom3_middle_east = middle_east_data.nsmallest(3, 'score')\n",
        "\n",
        "# Plotting bar charts for comparison\n",
        "plt.figure(figsize=(12, 6))\n",
        "\n",
        "# South Asia Plot\n",
        "plt.subplot(1, 2, 1)\n",
        "sns.barplot(x='Country name', y='score', data=pd.concat([top3_south_asia, bottom3_south_asia]), palette='viridis')\n",
        "plt.title('Top/Bottom 3 South Asian Countries by Score')\n",
        "plt.xticks(rotation=45, ha='right')  # Rotate x-axis labels for readability\n",
        "\n",
        "# Middle East Plot\n",
        "plt.subplot(1, 2, 2)\n",
        "sns.barplot(x='Country name', y='score', data=pd.concat([top3_middle_east, bottom3_middle_east]), palette='magma')\n",
        "plt.title('Top/Bottom 3 Middle Eastern Countries by Score')\n",
        "plt.xticks(rotation=45, ha='right')  # Rotate x-axis labels\n",
        "\n",
        "plt.tight_layout()\n",
        "plt.show()\n"
      ],
      "metadata": {
        "id": "ZJxCJZB2lhd9"
      },
      "execution_count": null,
      "outputs": []
    },
    {
      "cell_type": "markdown",
      "source": [
        "3. Metric Comparisons:\n",
        " • Compare key metrics like GDP per Capita, Social Support, and Healthy Life Expectancy\n",
        " between the regions using grouped bar charts.\n",
        " • Which metrics show the largest disparity between the two regions"
      ],
      "metadata": {
        "id": "UCkPpS3dlV8m"
      }
    },
    {
      "cell_type": "code",
      "source": [
        "south_asia_data = pd.read_csv('south_asia_dataset.csv')\n",
        "middle_east_data = pd.read_csv('middle_east_dataset.csv')\n",
        "#Compare key metrics like GDP per Capita, Social Support, and Healthy Life Expectancy\n",
        "#between the regions using grouped bar charts.\n",
        "#explanation is that here it is comparing key metrics such as GDP per capita, Social\n",
        "# Support and healthy life Expectency between south asian and middle east regions\n",
        "# using charts where it tells which metrics has the largest disparity between two regions.\n",
        "# Select the relevant metrics\n",
        "metrics = ['Log GDP per capita', 'Social support', 'Healthy life expectancy']\n",
        "\n",
        "# Prepare data for plotting\n",
        "south_asia_metrics = south_asia_data[metrics].mean().reset_index()\n",
        "south_asia_metrics.columns = ['Metric', 'Value']\n",
        "south_asia_metrics['Region'] = 'South Asia'\n",
        "\n",
        "middle_east_metrics = middle_east_data[metrics].mean().reset_index()\n",
        "middle_east_metrics.columns = ['Metric', 'Value']\n",
        "middle_east_metrics['Region'] = 'Middle East'\n",
        "\n",
        "combined_metrics = pd.concat([south_asia_metrics, middle_east_metrics])\n",
        "\n",
        "# Create grouped bar charts\n",
        "plt.figure(figsize=(12, 6))\n",
        "sns.barplot(x='Metric', y='Value', hue='Region', data=combined_metrics, palette='viridis')\n",
        "plt.title('Comparison of Key Metrics between South Asia and Middle East', fontsize=16)\n",
        "plt.xlabel('Metric', fontsize=12)\n",
        "plt.ylabel('Average Value', fontsize=12)\n",
        "plt.xticks(rotation=45, ha='right')\n",
        "plt.tight_layout()\n",
        "plt.show()\n",
        "\n",
        "# Calculate disparity\n",
        "disparities = {}\n",
        "for metric in metrics:\n",
        "    south_asia_avg = south_asia_data[metric].mean()\n",
        "    middle_east_avg = middle_east_data[metric].mean()\n",
        "    disparity = abs(south_asia_avg - middle_east_avg)\n",
        "    disparities[metric] = disparity\n",
        "\n",
        "# Find the metric with the largest disparity\n",
        "largest_disparity_metric = max(disparities, key=disparities.get)\n",
        "largest_disparity_value = disparities[largest_disparity_metric]\n",
        "\n",
        "print(f\"The metric with the largest disparity between the two regions is '{largest_disparity_metric}' with a disparity of {largest_disparity_value:.2f}.\")"
      ],
      "metadata": {
        "id": "iGZzzpUgmbco"
      },
      "execution_count": null,
      "outputs": []
    },
    {
      "cell_type": "markdown",
      "source": [
        " Happiness Disparity:\n",
        " • Compute the range (max- min) and coefficient of variation (CV) for Score in both regions.\n",
        " • Which region has greater variability in happiness"
      ],
      "metadata": {
        "id": "fo9TqjA2m1sX"
      }
    },
    {
      "cell_type": "code",
      "source": [
        "# Load the South Asia and Middle East datasets\n",
        "#here this task computes and compares the range and coefficient variation of happiness\n",
        "#score for both the south asian and middle eastern countires\n",
        "#Compute the range (max - min) and coefficient of variation (CV) for Score in both regions.\n",
        "south_asia_data = pd.read_csv('south_asia_dataset.csv')\n",
        "middle_east_data = pd.read_csv('middle_east_dataset.csv')\n",
        "\n",
        "# Compute the range for Score in both regions\n",
        "south_asia_range = south_asia_data['score'].max() - south_asia_data['score'].min()\n",
        "middle_east_range = middle_east_data['score'].max() - middle_east_data['score'].min()\n",
        "\n",
        "print(f\"South Asia - Range of Score: {south_asia_range:.2f}\")\n",
        "print(f\"Middle East - Range of Score: {middle_east_range:.2f}\")\n",
        "\n",
        "# Compute the coefficient of variation (CV) for Score in both regions\n",
        "south_asia_cv = south_asia_data['score'].std() / south_asia_data['score'].mean()\n",
        "middle_east_cv = middle_east_data['score'].std() / middle_east_data['score'].mean()\n",
        "\n",
        "print(f\"South Asia - Coefficient of Variation (CV) of Score: {south_asia_cv:.2f}\")\n",
        "print(f\"Middle East - Coefficient of Variation (CV) of Score: {middle_east_cv:.2f}\")\n",
        "\n",
        "# Determine which region has greater variability\n",
        "if south_asia_cv > middle_east_cv:\n",
        "    print(\"South Asia has greater variability in happiness (based on CV).\")\n",
        "elif middle_east_cv > south_asia_cv:\n",
        "    print(\"Middle East has greater variability in happiness (based on CV).\")\n",
        "else:\n",
        "    print(\"Both regions have the same variability in happiness (based on CV).\")"
      ],
      "metadata": {
        "id": "JP6Atp8wnYrU"
      },
      "execution_count": null,
      "outputs": []
    },
    {
      "cell_type": "markdown",
      "source": [
        " Correlation Analysis:\n",
        " • Analyze the correlation of Score with other metrics Freedom to Make Life Choices, and\n",
        " Generosity within each region.\n",
        " • Create scatter plots to visualize and interpret the relationships."
      ],
      "metadata": {
        "id": "lJ26XxFqoCHs"
      }
    },
    {
      "cell_type": "code",
      "source": [
        "#now here this task involves the correlation of happiness scores with two other\n",
        "#metrics (Freedom to make life choices and generosity) with in each regions. where\n",
        "#as the pearson correlation is calculated for each pair of variables which helps\n",
        "# in understanding linear relationship\n",
        "\n",
        "#Analyze the correlation of Score with other metrics Freedom to Make Life Choices, and\n",
        "#Generosity within each region.\n",
        "# Correlation Analysis for South Asia\n",
        "print(\"Correlation Analysis for South Asia:\")\n",
        "correlation_south_asia_freedom = south_asia_data['score'].corr(south_asia_data['Freedom to make life choices'])\n",
        "correlation_south_asia_generosity = south_asia_data['score'].corr(south_asia_data['Generosity'])\n",
        "\n",
        "print(f\"  - Correlation between Score and Freedom to make life choices: {correlation_south_asia_freedom:.2f}\")\n",
        "print(f\"  - Correlation between Score and Generosity: {correlation_south_asia_generosity:.2f}\")\n",
        "\n",
        "# Scatter plots for South Asia\n",
        "plt.figure(figsize=(12, 5))\n",
        "\n",
        "plt.subplot(1, 2, 1)\n",
        "sns.scatterplot(x='Freedom to make life choices', y='score', data=south_asia_data)\n",
        "plt.title('Score vs Freedom to Make Life Choices (South Asia)')\n",
        "\n",
        "plt.subplot(1, 2, 2)\n",
        "sns.scatterplot(x='Generosity', y='score', data=south_asia_data)\n",
        "plt.title('Score vs Generosity (South Asia)')\n",
        "\n",
        "plt.tight_layout()\n",
        "plt.show()\n",
        "\n",
        "# Correlation Analysis for Middle East\n",
        "print(\"\\nCorrelation Analysis for Middle East:\")\n",
        "correlation_middle_east_freedom = middle_east_data['score'].corr(middle_east_data['Freedom to make life choices'])\n",
        "correlation_middle_east_generosity = middle_east_data['score'].corr(middle_east_data['Generosity'])\n",
        "\n",
        "print(f\"  - Correlation between Score and Freedom to make life choices: {correlation_middle_east_freedom:.2f}\")\n",
        "print(f\"  - Correlation between Score and Generosity: {correlation_middle_east_generosity:.2f}\")\n",
        "\n",
        "# Scatter plots for Middle East\n",
        "plt.figure(figsize=(12, 5))\n",
        "\n",
        "plt.subplot(1, 2, 1)\n",
        "\n",
        "sns.scatterplot(x='Freedom to make life choices', y='score', data=middle_east_data)\n",
        "plt.title('Score vs Freedom to Make Life Choices (Middle East)')\n",
        "\n",
        "plt.subplot(1, 2, 2)\n",
        "sns.scatterplot(x='Generosity', y='score', data=middle_east_data)\n",
        "plt.title('Score vs Generosity (Middle East)')\n",
        "\n",
        "plt.tight_layout()\n",
        "plt.show()"
      ],
      "metadata": {
        "id": "emSrOV3hoDoP"
      },
      "execution_count": null,
      "outputs": []
    },
    {
      "cell_type": "markdown",
      "source": [
        " Outlier Detection:\n",
        " • Identify outlier countries in both regions based on Score and GDP per Capita.\n",
        " • Plot these outliers and discuss their implications"
      ],
      "metadata": {
        "id": "fvZ9QfJeofD4"
      }
    },
    {
      "cell_type": "code",
      "source": [
        "#here it focuses on finding countries in south asia and middle east in terms\n",
        "#of happiness scores and GDP per capita where outliers are countries that fall far\n",
        "#outside normal range which can be detetcted by IQR method.\n",
        "# Function to identify outliers using IQR\n",
        "def identify_outliers(data, column):\n",
        "  Q1 = data[column].quantile(0.25)\n",
        "  Q3 = data[column].quantile(0.75)\n",
        "  IQR = Q3 - Q1\n",
        "  lower_bound = Q1 - 1.5 * IQR\n",
        "  upper_bound = Q3 + 1.5 * IQR\n",
        "  outliers = data[(data[column] < lower_bound) | (data[column] > upper_bound)]\n",
        "  return outliers\n",
        "\n",
        "# Identify outliers in South Asia based on Score\n",
        "south_asia_score_outliers = identify_outliers(south_asia_data, 'score')\n",
        "\n",
        "# Identify outliers in South Asia based on GDP per Capita\n",
        "south_asia_gdp_outliers = identify_outliers(south_asia_data, 'Log GDP per capita')\n",
        "\n",
        "# Identify outliers in Middle East based on Score\n",
        "middle_east_score_outliers = identify_outliers(middle_east_data, 'score')\n",
        "\n",
        "# Identify outliers in Middle East based on GDP per Capita\n",
        "middle_east_gdp_outliers = identify_outliers(middle_east_data, 'Log GDP per capita')\n",
        "\n",
        "# Combine outliers for plotting\n",
        "south_asia_outliers = pd.concat([south_asia_score_outliers, south_asia_gdp_outliers]).drop_duplicates()\n",
        "middle_east_outliers = pd.concat([middle_east_score_outliers, middle_east_gdp_outliers]).drop_duplicates()\n",
        "\n",
        "\n"
      ],
      "metadata": {
        "id": "KTGZZqUQoluM"
      },
      "execution_count": null,
      "outputs": []
    },
    {
      "cell_type": "code",
      "source": [
        "#here the goal is to compare distribution of happiness scores between south asia and\n",
        "# middle east using the boxplots, and it is a great way to visualize the distribution\n",
        "# of a dataset, also of median, IQR AND OUTLIERS\n",
        "\n",
        "#Create boxplots comparing the distribution of Score between South Asia and the Middle East.\n",
        "#Interpret the key differences in distribution shapes, medians, and outliers.\n",
        "# Plotting outliers for South Asia\n",
        "plt.figure(figsize=(12, 6))\n",
        "sns.scatterplot(x='Log GDP per capita', y='score', data=south_asia_data, label='Non-Outliers')\n",
        "sns.scatterplot(x='Log GDP per capita', y='score', data=south_asia_outliers, color='red', label='Outliers')\n",
        "for index, row in south_asia_outliers.iterrows():\n",
        "  plt.text(row['Log GDP per capita'], row['score'], row['Country name'], fontsize=9)\n",
        "plt.title('Outliers in South Asia based on Score and GDP per Capita', fontsize=16)\n",
        "plt.xlabel('Log GDP per Capita', fontsize=12)\n",
        "plt.ylabel('Score', fontsize=12)\n",
        "plt.legend()\n",
        "plt.show()"
      ],
      "metadata": {
        "id": "qLmOX1LWlb2z"
      },
      "execution_count": null,
      "outputs": []
    },
    {
      "cell_type": "code",
      "source": [
        "\n",
        "# Plotting outliers for Middle East\n",
        "plt.figure(figsize=(12, 6))\n",
        "sns.scatterplot(x='Log GDP per capita', y='score', data=middle_east_data, label='Non-Outliers')\n",
        "sns.scatterplot(x='Log GDP per capita', y='score', data=middle_east_outliers, color='red', label='Outliers')\n",
        "for index, row in middle_east_outliers.iterrows():\n",
        "  plt.text(row['Log GDP per capita'], row['score'], row['Country name'], fontsize=9)\n",
        "plt.title('Outliers in Middle East based on Score and GDP per Capita', fontsize=16)\n",
        "plt.xlabel('Log GDP per Capita', fontsize=12)\n",
        "plt.ylabel('Score', fontsize=12)\n",
        "plt.legend()\n",
        "plt.show()\n"
      ],
      "metadata": {
        "id": "RwgodP0MlZPz"
      },
      "execution_count": null,
      "outputs": []
    },
    {
      "cell_type": "code",
      "source": [
        "\n",
        "# Discussing implications\n",
        "print(\"Outlier Analysis Implications:\")\n",
        "print(\"\\nSouth Asia:\")\n",
        "if south_asia_outliers.empty:\n",
        "  print(\"  - No countries identified as outliers.\")\n",
        "else:\n",
        "  print(\"  - Outlier countries in South Asia:\")\n",
        "  for index, row in south_asia_outliers.iterrows():\n",
        "      print(f\"    - {row['Country name']}: Score = {row['score']:.2f}, GDP per Capita = {row['Log GDP per capita']:.2f}\")\n",
        "  print(\"  - Implications:\")\n",
        "  print(\"    - Outliers in South Asia may have unique socio-economic or political circumstances that deviate from the general trends of the region.\")\n",
        "  print(\"    - Countries with low scores and low GDP may be facing significant challenges in terms of governance, social support, or economic development.\")\n",
        "  print(\"    - Countries with high scores but low GDP could be prioritizing factors other than economic prosperity, such as strong social connections or effective governance.\")\n",
        "  print(\"    - Countries with high GDP but low scores may be experiencing income inequality or other societal issues impacting happiness.\")\n",
        "print(\"\\nMiddle East:\")\n",
        "\n",
        "if middle_east_outliers.empty:\n",
        "  print(\"  - No countries identified as outliers.\")\n",
        "else:\n",
        "  print(\"  - Outlier countries in Middle East:\")\n",
        "  for index, row in middle_east_outliers.iterrows():\n",
        "    print(f\"    - {row['Country name']}: Score = {row['score']:.2f}, GDP per Capita = {row['Log GDP per capita']:.2f}\")\n",
        "  print(\"  - Implications:\")\n",
        "  print(\"    - Similar to South Asia, outliers in the Middle East may represent countries with distinct economic or social structures.\")\n",
        "  print(\"    - High GDP outliers with low happiness scores might be facing social unrest, corruption, or inequality.\")\n",
        "  print(\"    - Low GDP countries with higher scores could potentially be managing resources effectively or have strong social structures.\")\n",
        "  print(\"    - Identifying these countries and investigating the reasons behind their outliers can give helpful information to policymakers.\")"
      ],
      "metadata": {
        "id": "9ycCGRZ1lM6X"
      },
      "execution_count": null,
      "outputs": []
    },
    {
      "cell_type": "markdown",
      "source": [
        " 7. Visualization:\n",
        " • Create boxplots comparing the distribution of Score between South Asia and the Middle East.\n",
        " • Interpret the key differences in distribution shapes, medians, and outliers"
      ],
      "metadata": {
        "id": "yEVaf0Ubtyu0"
      }
    },
    {
      "cell_type": "code",
      "source": [
        "# Load the South Asia and Middle East datasets\n",
        "south_asia_data = pd.read_csv('south_asia_dataset.csv')\n",
        "middle_east_data = pd.read_csv('middle_east_dataset.csv')\n",
        "\n",
        "# Create a combined dataframe for boxplot\n",
        "south_asia_data['Region'] = 'South Asia'\n",
        "middle_east_data['Region'] = 'Middle East'\n",
        "combined_data = pd.concat([south_asia_data, middle_east_data])\n",
        "\n",
        "# Create boxplot\n",
        "plt.figure(figsize=(10, 6))\n",
        "sns.boxplot(x='Region', y='score', data=combined_data, palette='Set2')\n",
        "plt.title('Distribution of Score between South Asia and Middle East', fontsize=16)\n",
        "plt.xlabel('Region', fontsize=12)\n",
        "plt.ylabel('Score', fontsize=12)\n",
        "plt.show()\n",
        "\n"
      ],
      "metadata": {
        "id": "L6p_eU4stzz2"
      },
      "execution_count": null,
      "outputs": []
    },
    {
      "cell_type": "code",
      "source": [
        "\n",
        "# Interpretation\n",
        "#Distribution: The Middle East has a wider range of happiness scores, while South Asia's scores are more closely grouped together.\n",
        "#Medians: The Middle East’s happiness scores are higher (around 5.5-6.0), while South Asia's are lower (around 4.0-4.5).\n",
        "#Outliers:\n",
        "#South Asia: There is one score much lower than the rest (below 2.0).\n",
        "#Middle East: There is no extreme scores, but the range is bigger (2.8-7.2).\n",
        "#Countries in the Middle East tend to have higher happiness scores with more differences, while South Asia has lower scores with one big exception"
      ],
      "metadata": {
        "id": "FFwfYNN5t8St"
      },
      "execution_count": null,
      "outputs": []
    }
  ]
}