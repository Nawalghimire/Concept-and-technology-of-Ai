{
 "cells": [
  {
   "cell_type": "code",
   "execution_count": 10,
   "id": "facb2314-ed0f-429f-b685-290cb1765884",
   "metadata": {},
   "outputs": [
    {
     "name": "stdout",
     "output_type": "stream",
     "text": [
      "[[4.9e-324 9.9e-324]\n",
      " [1.5e-323 2.0e-323]]\n"
     ]
    }
   ],
   "source": [
    "#PROBLEM 1 ARRAY CREATION\n",
    "#TASK1\n",
    "import numpy as np\n",
    "empty_array = np.empty((2, 2))\n",
    "print(empty_array)"
   ]
  },
  {
   "cell_type": "code",
   "execution_count": 14,
   "id": "fadce0b8-8c21-4658-a58a-46996529e6e9",
   "metadata": {},
   "outputs": [
    {
     "name": "stdout",
     "output_type": "stream",
     "text": [
      "[[1. 1.]\n",
      " [1. 1.]\n",
      " [1. 1.]\n",
      " [1. 1.]]\n"
     ]
    }
   ],
   "source": [
    "#TASK2\n",
    "import numpy as np\n",
    "ones_array = np.ones((4, 2))\n",
    "print(ones_array)"
   ]
  },
  {
   "cell_type": "code",
   "execution_count": 17,
   "id": "f6a3adc4-b501-4115-87ba-755caac20605",
   "metadata": {},
   "outputs": [
    {
     "name": "stdout",
     "output_type": "stream",
     "text": [
      "[[8 8]\n",
      " [8 8]]\n"
     ]
    }
   ],
   "source": [
    "#TASK3\n",
    "import numpy as np\n",
    "fill_array = np.full((2, 2), 8)\n",
    "print(fill_array)"
   ]
  },
  {
   "cell_type": "code",
   "execution_count": 18,
   "id": "78dc37c9-82bb-460f-8e34-b2f7d17dc632",
   "metadata": {},
   "outputs": [
    {
     "name": "stdout",
     "output_type": "stream",
     "text": [
      "[[1 2 3]\n",
      " [4 5 6]]\n",
      "[[0 0 0]\n",
      " [0 0 0]]\n"
     ]
    }
   ],
   "source": [
    "#TASK4\n",
    "import numpy as np\n",
    "\n",
    "given_array = np.array([[1, 2, 3], [4, 5, 6]], dtype=int)\n",
    "zeros_like_array = np.zeros_like(given_array)\n",
    "\n",
    "print(given_array)\n",
    "print(zeros_like_array)"
   ]
  },
  {
   "cell_type": "code",
   "execution_count": 21,
   "id": "fc9f1a19-6d42-466a-8b08-980cf3e2764e",
   "metadata": {},
   "outputs": [
    {
     "name": "stdout",
     "output_type": "stream",
     "text": [
      "[[10 20 30]\n",
      " [40 50 60]]\n",
      "[[1 1 1]\n",
      " [1 1 1]]\n"
     ]
    }
   ],
   "source": [
    "#TASK5\n",
    "import numpy as np\n",
    "\n",
    "given_array = np.array([[10, 20, 30], [40, 50, 60]], dtype=int)\n",
    "ones_like_array = np.ones_like(given_array)\n",
    "\n",
    "print(given_array)\n",
    "print(ones_like_array)"
   ]
  },
  {
   "cell_type": "code",
   "execution_count": 22,
   "id": "9ada0f3c-c2dc-43ad-9073-c499778b8143",
   "metadata": {},
   "outputs": [
    {
     "name": "stdout",
     "output_type": "stream",
     "text": [
      "[1, 2, 3, 4]\n",
      "[1 2 3 4]\n"
     ]
    }
   ],
   "source": [
    "#TASK6\n",
    "import numpy as np\n",
    "\n",
    "new_list = [1, 2, 3, 4]\n",
    "array_from_list = np.array(new_list)\n",
    "\n",
    "print(new_list)\n",
    "print(array_from_list)"
   ]
  },
  {
   "cell_type": "code",
   "execution_count": 23,
   "id": "7dad4d82-723f-453c-ba4a-e00332894bc0",
   "metadata": {},
   "outputs": [
    {
     "name": "stdout",
     "output_type": "stream",
     "text": [
      "[10 11 12 13 14 15 16 17 18 19 20 21 22 23 24 25 26 27 28 29 30 31 32 33\n",
      " 34 35 36 37 38 39 40 41 42 43 44 45 46 47 48 49]\n"
     ]
    }
   ],
   "source": [
    "#PROBLEM 2\n",
    "#TASK1\n",
    "import numpy as np\n",
    "array_range = np.arange(10, 50)\n",
    "print(array_range)"
   ]
  },
  {
   "cell_type": "code",
   "execution_count": 27,
   "id": "ccccf893-5612-4bb4-9c22-3fe54453fefc",
   "metadata": {},
   "outputs": [
    {
     "name": "stdout",
     "output_type": "stream",
     "text": [
      "[[0 1 2]\n",
      " [3 4 5]\n",
      " [6 7 8]]\n"
     ]
    }
   ],
   "source": [
    "#TASK2\n",
    "import numpy as np\n",
    "array_1d = np.arange(9)\n",
    "matrix_3x3 = array_1d.reshape((3, 3))\n",
    "print(matrix_3x3)"
   ]
  },
  {
   "cell_type": "code",
   "execution_count": 28,
   "id": "9d4dbccf-d22d-49fd-9b3b-d0f88e25135e",
   "metadata": {},
   "outputs": [
    {
     "name": "stdout",
     "output_type": "stream",
     "text": [
      "[[1. 0. 0.]\n",
      " [0. 1. 0.]\n",
      " [0. 0. 1.]]\n"
     ]
    }
   ],
   "source": [
    "#TASK3\n",
    "import numpy as np\n",
    "identity_matrix = np.eye(3)\n",
    "print(identity_matrix)"
   ]
  },
  {
   "cell_type": "code",
   "execution_count": 29,
   "id": "08b79eef-d346-4a0b-a0ec-09761394e024",
   "metadata": {},
   "outputs": [
    {
     "name": "stdout",
     "output_type": "stream",
     "text": [
      "[0.06818505 0.35427064 0.69364638 0.46978114 0.59054624 0.87147414\n",
      " 0.60181215 0.40906059 0.60035676 0.03231899 0.21280339 0.17803688\n",
      " 0.08423838 0.05586525 0.21390013 0.58346295 0.71121743 0.80305093\n",
      " 0.55932846 0.89902632 0.47615403 0.95492615 0.87700013 0.75196038\n",
      " 0.05840507 0.65009075 0.44085913 0.40913385 0.5758172  0.92719164]\n",
      "0.5037973512575796\n"
     ]
    }
   ],
   "source": [
    "#TASK4\n",
    "import numpy as np\n",
    "\n",
    "random_array = np.random.random(30)\n",
    "array_mean = random_array.mean()\n",
    "\n",
    "print(random_array)\n",
    "print(array_mean)"
   ]
  },
  {
   "cell_type": "code",
   "execution_count": 85,
   "id": "457d473d-cdc1-426b-9554-90404e9214c1",
   "metadata": {},
   "outputs": [
    {
     "name": "stdout",
     "output_type": "stream",
     "text": [
      "[[9.59545871e-01 8.44049283e-01 8.30397219e-01 9.56510577e-01\n",
      "  6.76873637e-01 4.19651438e-01 5.55700895e-01 4.23832222e-01\n",
      "  6.48519316e-01 5.34223654e-01]\n",
      " [4.24622532e-01 9.51868634e-01 2.34620623e-01 7.38175480e-01\n",
      "  3.75310799e-01 3.10650012e-01 8.75722795e-01 3.35171680e-01\n",
      "  5.62625440e-01 6.19054639e-01]\n",
      " [1.11586839e-01 9.75760336e-01 9.57911757e-01 2.50940472e-01\n",
      "  9.54643481e-01 2.49989662e-01 7.71346262e-01 9.29862219e-01\n",
      "  1.34661513e-01 1.04856384e-02]\n",
      " [3.28557908e-01 6.02828795e-01 3.01960559e-01 9.24183123e-01\n",
      "  5.53447466e-01 5.30423163e-01 9.95840006e-01 1.14592158e-01\n",
      "  7.37767995e-01 8.43077263e-01]\n",
      " [4.34988358e-01 4.23363872e-01 5.35379044e-01 5.78517844e-01\n",
      "  6.55742050e-01 9.24770403e-01 8.45713711e-01 5.22848763e-02\n",
      "  2.54349514e-01 5.87198510e-01]\n",
      " [4.96853357e-01 5.08825407e-01 3.60639357e-01 8.87194954e-01\n",
      "  2.62041519e-01 4.63165266e-01 1.79959521e-01 7.17016018e-01\n",
      "  2.30515853e-01 4.88064211e-01]\n",
      " [8.75999805e-01 5.46245236e-01 8.91080972e-01 3.20921253e-01\n",
      "  9.91507218e-01 7.91810269e-01 8.09942994e-04 2.68500400e-01\n",
      "  5.85445100e-01 7.71618040e-01]\n",
      " [8.16559607e-01 5.36304443e-01 7.38155289e-01 7.72378426e-02\n",
      "  3.85308105e-01 6.37535831e-01 6.71237444e-01 9.97000467e-01\n",
      "  2.72774058e-01 9.51842670e-02]\n",
      " [5.90766707e-01 1.51268448e-01 7.19731333e-01 7.21732469e-03\n",
      "  5.91093684e-02 8.99328475e-01 3.64498534e-01 9.12962849e-01\n",
      "  8.40964793e-01 9.09025234e-01]\n",
      " [2.55696609e-01 1.15154933e-01 7.46399413e-01 2.35771778e-01\n",
      "  3.96424921e-01 3.86151916e-01 6.83536747e-01 2.62248710e-01\n",
      "  8.16733125e-04 8.02056740e-01]]\n",
      "Minimum value: 0.0008099429938829283\n",
      "Maximum value: 0.9970004673243263\n"
     ]
    }
   ],
   "source": [
    "#TASK5\n",
    "import numpy as np\n",
    "\n",
    "random_array = np.random.rand(10, 10)\n",
    "min_value = random_array.min()\n",
    "max_value = random_array.max()\n",
    "print(random_array)\n",
    "\n",
    "print(f\"Minimum value: {min_value}\")\n",
    "print(f\"Maximum value: {max_value}\")\n"
   ]
  },
  {
   "cell_type": "code",
   "execution_count": 31,
   "id": "a0ec2ea8-e8dc-432a-b8d8-6a633deee0d9",
   "metadata": {},
   "outputs": [
    {
     "name": "stdout",
     "output_type": "stream",
     "text": [
      "[0. 0. 0. 0. 1. 0. 0. 0. 0. 0.]\n"
     ]
    }
   ],
   "source": [
    "#TASK6\n",
    "import numpy as np\n",
    "zero_array = np.zeros(10)\n",
    "zero_array[4] = 1\n",
    "print(zero_array)"
   ]
  },
  {
   "cell_type": "code",
   "execution_count": 33,
   "id": "0fdd5fee-644a-432e-9268-47364287691b",
   "metadata": {},
   "outputs": [
    {
     "name": "stdout",
     "output_type": "stream",
     "text": [
      "[0 4 0 0 2 1]\n"
     ]
    }
   ],
   "source": [
    "#TASK6\n",
    "import numpy as np\n",
    "arr = np.array([1,2,0,0,4,0])\n",
    "reverse_array = np.flip(arr)\n",
    "print(reverse_array)"
   ]
  },
  {
   "cell_type": "code",
   "execution_count": 37,
   "id": "2fe5c9e4-eb43-4eb4-bfd7-a59b783b8875",
   "metadata": {},
   "outputs": [
    {
     "name": "stdout",
     "output_type": "stream",
     "text": [
      "[[1 2 3]\n",
      " [4 5 6]]\n"
     ]
    }
   ],
   "source": [
    "#TASK7\n",
    "import numpy as np\n",
    "arr = np.array([[1,2,3], [4,5,6]])\n",
    "print(arr)"
   ]
  },
  {
   "cell_type": "code",
   "execution_count": 45,
   "id": "cff5c820-9de8-47ac-97c4-4eb750753912",
   "metadata": {},
   "outputs": [
    {
     "name": "stdout",
     "output_type": "stream",
     "text": [
      "[[1 1 1 1]\n",
      " [1 0 0 1]\n",
      " [1 0 0 1]\n",
      " [1 1 1 1]]\n"
     ]
    }
   ],
   "source": [
    "#TASK8\n",
    "import numpy as np\n",
    "\n",
    "array = np.zeros((4, 4), dtype=int)\n",
    "array[0, :] = 1  \n",
    "array[-1, :] = 1 \n",
    "array[:, 0] = 1  \n",
    "array[:, -1] = 1  \n",
    "\n",
    "print(array)\n"
   ]
  },
  {
   "cell_type": "code",
   "execution_count": 62,
   "id": "616f5a0b-52d4-4298-a894-fe4734c61841",
   "metadata": {},
   "outputs": [
    {
     "name": "stdout",
     "output_type": "stream",
     "text": [
      "[[0 5 0 5]\n",
      " [5 0 5 0]\n",
      " [0 5 0 5]\n",
      " [5 0 5 0]]\n"
     ]
    }
   ],
   "source": [
    "#TASK9\n",
    "import numpy as np\n",
    "arr = np.zeros((4, 4), dtype=int)\n",
    "arr[1::2, 0::2] = 5\n",
    "arr[::2, 1::2] = 5\n",
    "print(arr)"
   ]
  },
  {
   "cell_type": "code",
   "execution_count": 76,
   "id": "724c5ea2-944a-4855-8d94-e363bfd4ff90",
   "metadata": {},
   "outputs": [
    {
     "name": "stdout",
     "output_type": "stream",
     "text": [
      "[[ 6  8]\n",
      " [10 13]]\n",
      "[20 22]\n",
      "[[26 30]\n",
      " [30 35]]\n"
     ]
    }
   ],
   "source": [
    "#PROBLEM 3 ARRAY OPERATIONS\n",
    "#TASK1\n",
    "import numpy as np\n",
    "\n",
    "x = np.array([[1,2],[3,5]])\n",
    "y = np.array([[5,6],[7,8]])\n",
    "v = np.array([9,10]) \n",
    "w = np.array([11,12])\n",
    "result_1 = np.add(x,y) \n",
    "result_2 = np.add(v,w)\n",
    "addition = np.add(result_1, result_2)\n",
    "\n",
    "print(result_1)\n",
    "print(result_2)\n",
    "print(addition)"
   ]
  },
  {
   "cell_type": "code",
   "execution_count": 78,
   "id": "13375e20-6243-442e-a0cd-a9f02608f7e3",
   "metadata": {},
   "outputs": [
    {
     "name": "stdout",
     "output_type": "stream",
     "text": [
      "[[-4 -4]\n",
      " [-4 -3]]\n",
      "[-2 -2]\n",
      "[[-2 -2]\n",
      " [-2 -1]]\n"
     ]
    }
   ],
   "source": [
    "#TASK2\n",
    "import numpy as np\n",
    "\n",
    "a = np.array([[1,2],[3,5]])\n",
    "b = np.array([[5,6],[7,8]])\n",
    "v = np.array([9,10]) \n",
    "w = np.array([11,12])\n",
    "\n",
    "result_1 = np.subtract(a,b) \n",
    "result_2 = np.subtract(v,w)\n",
    "subtraction = np.subtract(result_1, result_2)\n",
    "\n",
    "print(result_1)\n",
    "print(result_2)\n",
    "print(subtraction)"
   ]
  },
  {
   "cell_type": "code",
   "execution_count": 79,
   "id": "b29838ce-0ee7-4916-913a-473c45c65a7d",
   "metadata": {},
   "outputs": [
    {
     "name": "stdout",
     "output_type": "stream",
     "text": [
      "[[ 0 12]\n",
      " [ 0 12]]\n",
      "[ 99 120]\n",
      "[[   0 1440]\n",
      " [   0 1440]]\n"
     ]
    }
   ],
   "source": [
    "#TASK3\n",
    "import numpy as np\n",
    "\n",
    "c = np.array([[1,4], [0,3]])\n",
    "d = np.array([[0,3], [1,4]])\n",
    "v = np.array([9,10]) \n",
    "w = np.array([11,12])\n",
    "\n",
    "result_1 = np.multiply(c,d) \n",
    "result_2 = np.multiply(v,w)\n",
    "multiplication = np.multiply(result_1, result_2)\n",
    "\n",
    "print(result_1)\n",
    "print(result_2)\n",
    "print(multiplication)"
   ]
  },
  {
   "cell_type": "code",
   "execution_count": 89,
   "id": "faa4232d-a355-4861-927c-bf950c08c831",
   "metadata": {},
   "outputs": [
    {
     "name": "stdout",
     "output_type": "stream",
     "text": [
      "[ 81 100]\n",
      "[[ 1  4]\n",
      " [ 9 25]]\n"
     ]
    }
   ],
   "source": [
    "#TASK4\n",
    "import numpy as np\n",
    "\n",
    "v = np.array([9, 10])\n",
    "w = np.array([11, 12])\n",
    "x = np.array([[1, 2], [3, 5]])\n",
    "y = np.array([[5, 6], [7, 8]])\n",
    "\n",
    "result_1 = np.square(v,w)\n",
    "result_2 = np.square(x,y)\n",
    "\n",
    "print(result_1)\n",
    "print(result_2)"
   ]
  },
  {
   "cell_type": "code",
   "execution_count": 84,
   "id": "a89d3a03-465f-44ed-bd01-523d9ec26495",
   "metadata": {},
   "outputs": [
    {
     "name": "stdout",
     "output_type": "stream",
     "text": [
      "Dot product of v and w: 219\n",
      "Dot product of x and v: [29 77]\n",
      "Dot product of x and y: [[19 22]\n",
      " [50 58]]\n"
     ]
    }
   ],
   "source": [
    "#TASK5\n",
    "import numpy as np\n",
    "\n",
    "v = np.array([9, 10])\n",
    "w = np.array([11, 12])\n",
    "x = np.array([[1, 2], [3, 5]])\n",
    "y = np.array([[5, 6], [7, 8]])\n",
    "\n",
    "dot_product_vw = np.dot(v, w)\n",
    "dot_product_xv = np.dot(x, v)\n",
    "dot_product_xy = np.dot(x, y)\n",
    "\n",
    "print(f\"Dot product of v and w: {dot_product_vw}\")\n",
    "print(f\"Dot product of x and v: {dot_product_xv}\")\n",
    "print(f\"Dot product of x and y: {dot_product_xy}\")\n"
   ]
  },
  {
   "cell_type": "code",
   "execution_count": 87,
   "id": "40ae22ab-8084-4de8-a56c-6e48cd392a4e",
   "metadata": {},
   "outputs": [
    {
     "name": "stdout",
     "output_type": "stream",
     "text": [
      "Concatenated v and w along columns (using np.vstack):\n",
      "[[ 9 11]\n",
      " [10 12]]\n"
     ]
    }
   ],
   "source": [
    "#TASK6\n",
    "import numpy as np\n",
    "\n",
    "x = np.array([[1, 2], [3, 5]])\n",
    "y = np.array([[5, 6], [7, 8]])\n",
    "v = np.array([9, 10])\n",
    "w = np.array([11, 12])\n",
    "\n",
    "# CONCATENATE X AND Y ALONG ROWS (AXIS=0)\n",
    "#CONCAT_XY_ROWS = np.concatenate((x, y), axis=0)\n",
    "\n",
    "# CONCATENATE V AND W ALONG COLUMNS (AXIS=1)\n",
    "#CONCAT_VW_COLUMNS = np.concatenate((v.reshape(-1, 1), w.reshape(-1, 1)), axis=1)\n",
    "\n",
    "concat_vw_columns_vstack = np.vstack((v, w)).T \n",
    "\n",
    "print(f\"Concatenated v and w along columns (using np.vstack):\\n{concat_vw_columns_vstack}\")\n"
   ]
  },
  {
   "cell_type": "code",
   "execution_count": 104,
   "id": "18e0c4d3-c782-47a1-a666-ccf5e89203ce",
   "metadata": {},
   "outputs": [
    {
     "name": "stdout",
     "output_type": "stream",
     "text": [
      "Concatenation:\n",
      "[[ 1  2]\n",
      " [ 3  5]\n",
      " [ 9 10]]\n",
      "Concatenation:\n",
      "[[ 1  2  9]\n",
      " [ 3  5 10]]\n"
     ]
    }
   ],
   "source": [
    "#TASK7\n",
    "import numpy as np\n",
    "\n",
    "x = np.array([[1, 2], [3, 5]])\n",
    "y = np.array([[5, 6], [7, 8]])\n",
    "v = np.array([9, 10])\n",
    "w = np.array([11, 12])\n",
    "\n",
    "concat_xv_rows = np.concatenate((x, v.reshape(1, -1)), axis=0)\n",
    "print(f\"Concatenation:\\n{concat_xv_rows}\")\n",
    "\n",
    "concat_xv_columns = np.concatenate((x, v.reshape(-1, 1)), axis=1)\n",
    "print(f\"Concatenation:\\n{concat_xv_columns}\")"
   ]
  },
  {
   "cell_type": "code",
   "execution_count": 107,
   "id": "4a6b7515-8566-4778-8315-a2e301239b7a",
   "metadata": {},
   "outputs": [
    {
     "name": "stdout",
     "output_type": "stream",
     "text": [
      "[[1.00000000e+00 0.00000000e+00]\n",
      " [1.77635684e-15 1.00000000e+00]]\n"
     ]
    }
   ],
   "source": [
    "# PROBLEM 4 MATRIX OPERATIONS\n",
    "#A = np.array([[3,4],[7,8]]) and B = np.array([[5,3],[2,1]]); Prove following with Numpy:\n",
    "#1.\tProve A.A−1 = I.\n",
    "\n",
    "import numpy as np\n",
    "\n",
    "A = np.array([[3, 4], [7, 8]])\n",
    "A_inv = np.linalg.inv(A)\n",
    "result = np.dot(A, A_inv)\n",
    "print(result)"
   ]
  },
  {
   "cell_type": "code",
   "execution_count": 109,
   "id": "cf51d0a3-bb41-4a67-a0bf-34f0e2044fbf",
   "metadata": {},
   "outputs": [
    {
     "name": "stdout",
     "output_type": "stream",
     "text": [
      "AB:\n",
      " [[23 13]\n",
      " [51 29]]\n",
      "BA:\n",
      " [[36 44]\n",
      " [13 16]]\n"
     ]
    }
   ],
   "source": [
    "#2.\tProve AB ̸= BA\n",
    "import numpy as np\n",
    "\n",
    "B = np.array([[5, 3], [2, 1]])\n",
    "AB = np.dot(A, B)\n",
    "BA = np.dot(B, A)\n",
    "\n",
    "print(\"AB:\\n\", AB)\n",
    "print(\"BA:\\n\", BA)"
   ]
  },
  {
   "cell_type": "code",
   "execution_count": 110,
   "id": "531e1fc1-098c-489f-8c8c-e5723258df8c",
   "metadata": {},
   "outputs": [
    {
     "name": "stdout",
     "output_type": "stream",
     "text": [
      "(AB)^T:\n",
      " [[23 51]\n",
      " [13 29]]\n",
      "B^T * A^T:\n",
      " [[23 51]\n",
      " [13 29]]\n"
     ]
    }
   ],
   "source": [
    "#3 Prove (AB)T = BTAT\n",
    "\n",
    "import numpy as np\n",
    "\n",
    "AB_transpose = np.transpose(AB)\n",
    "BT_AT = np.dot(np.transpose(B), np.transpose(A))\n",
    "\n",
    "print(\"(AB)^T:\\n\", AB_transpose)\n",
    "print(\"B^T * A^T:\\n\", BT_AT)\n"
   ]
  },
  {
   "cell_type": "code",
   "execution_count": 113,
   "id": "8f2a3193-8444-4ac1-97f8-37a3f9ea2a74",
   "metadata": {},
   "outputs": [
    {
     "name": "stdout",
     "output_type": "stream",
     "text": [
      "Solution: [ 2.  1. -2.]\n"
     ]
    }
   ],
   "source": [
    "#4 •\tSolve the following system of Linear equation using Inverse Methods.\n",
    "#2x − 3y + z = −1 x − y + 2z = −3 3x + y − z = 9\n",
    "\n",
    "import numpy as np\n",
    "A = np.array([[2, -3, 1],\n",
    "              [1, -1, 2],\n",
    "              [3, 1, -1]])\n",
    "B = np.array([-1, -3, 9])\n",
    "A_inv = np.linalg.inv(A)\n",
    "X = np.dot(A_inv, B)\n",
    "\n",
    "print(\"Solution:\", X)"
   ]
  },
  {
   "cell_type": "code",
   "execution_count": 114,
   "id": "56869b10-c496-4a5f-b347-9249e1c3c3cd",
   "metadata": {},
   "outputs": [
    {
     "name": "stdout",
     "output_type": "stream",
     "text": [
      "Solution using np.linalg.solve: [ 2.  1. -2.]\n"
     ]
    }
   ],
   "source": [
    "#5 solve the above equation using np.linalg.inv function.\n",
    "#{Explore more about ”linalg” function of Numpy}\n",
    "\n",
    "import numpy as np\n",
    "\n",
    "X_solve = np.linalg.solve(A, B)\n",
    "print(\"Solution using np.linalg.solve:\", X_solve)\n"
   ]
  },
  {
   "cell_type": "code",
   "execution_count": null,
   "id": "bb7d377f-2312-4f47-9ed1-c717a202eef1",
   "metadata": {},
   "outputs": [],
   "source": []
  }
 ],
 "metadata": {
  "kernelspec": {
   "display_name": "Python 3 (ipykernel)",
   "language": "python",
   "name": "python3"
  },
  "language_info": {
   "codemirror_mode": {
    "name": "ipython",
    "version": 3
   },
   "file_extension": ".py",
   "mimetype": "text/x-python",
   "name": "python",
   "nbconvert_exporter": "python",
   "pygments_lexer": "ipython3",
   "version": "3.12.0"
  }
 },
 "nbformat": 4,
 "nbformat_minor": 5
}
