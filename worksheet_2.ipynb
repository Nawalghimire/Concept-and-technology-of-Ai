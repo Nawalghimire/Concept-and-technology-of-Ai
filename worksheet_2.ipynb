{
  "nbformat": 4,
  "nbformat_minor": 0,
  "metadata": {
    "colab": {
      "provenance": []
    },
    "kernelspec": {
      "name": "python3",
      "display_name": "Python 3"
    },
    "language_info": {
      "name": "python"
    }
  },
  "cells": [
    {
      "cell_type": "code",
      "execution_count": null,
      "metadata": {
        "id": "vGQ2YmTLuUbf",
        "colab": {
          "base_uri": "https://localhost:8080/"
        },
        "outputId": "774a9b9b-ba0d-454b-f343-18ac23e47069"
      },
      "outputs": [
        {
          "output_type": "stream",
          "name": "stdout",
          "text": [
            "           x          y\n",
            "0  32.502345  31.707006\n",
            "1  53.426804  68.777596\n",
            "2  61.530358  62.562382\n",
            "3  47.475640  71.546632\n",
            "4  59.813208  87.230925\n",
            "<bound method DataFrame.info of             x          y\n",
            "0   32.502345  31.707006\n",
            "1   53.426804  68.777596\n",
            "2   61.530358  62.562382\n",
            "3   47.475640  71.546632\n",
            "4   59.813208  87.230925\n",
            "..        ...        ...\n",
            "95  50.030174  81.536991\n",
            "96  49.239765  72.111832\n",
            "97  50.039576  85.232007\n",
            "98  48.149859  66.224958\n",
            "99  25.128485  53.454394\n",
            "\n",
            "[100 rows x 2 columns]>\n",
            "Empty DataFrame\n",
            "Columns: []\n",
            "Index: [0, 1, 2, 3, 4, 5, 6, 7, 8, 9, 10, 11, 12, 13, 14, 15, 16, 17, 18, 19, 20, 21, 22, 23, 24, 25, 26, 27, 28, 29, 30, 31, 32, 33, 34, 35, 36, 37, 38, 39, 40, 41, 42, 43, 44, 45, 46, 47, 48, 49, 50, 51, 52, 53, 54, 55, 56, 57, 58, 59, 60, 61, 62, 63, 64, 65, 66, 67, 68, 69, 70, 71, 72, 73, 74, 75, 76, 77, 78, 79, 80, 81, 82, 83, 84, 85, 86, 87, 88, 89, 90, 91, 92, 93, 94, 95, 96, 97, 98, 99]\n",
            "\n",
            "[100 rows x 0 columns]\n",
            "\n",
            "Unique values in columns with dtype=object:\n",
            "x    0\n",
            "y    0\n",
            "dtype: int64\n",
            "            x          y\n",
            "0   32.502345  31.707006\n",
            "1   53.426804  68.777596\n",
            "2   61.530358  62.562382\n",
            "3   47.475640  71.546632\n",
            "4   59.813208  87.230925\n",
            "..        ...        ...\n",
            "95  50.030174  81.536991\n",
            "96  49.239765  72.111832\n",
            "97  50.039576  85.232007\n",
            "98  48.149859  66.224958\n",
            "99  25.128485  53.454394\n",
            "\n",
            "[100 rows x 2 columns]\n",
            "                x           y\n",
            "count  100.000000  100.000000\n",
            "mean    48.958341   72.735051\n",
            "std      9.746379   16.658187\n",
            "min     25.128485   31.707006\n",
            "25%     41.526164   60.788586\n",
            "50%     49.634970   72.179542\n",
            "75%     56.762631   83.215080\n",
            "max     70.346076  118.591217\n"
          ]
        }
      ],
      "source": [
        "#3.1 Warming Up Exercises - Basic Inspection and Exploration:\n",
        "#PROBLEM 1\n",
        "\n",
        "import pandas as pd\n",
        "df = pd.read_csv(\"/content/drive/MyDrive/jupyter/data.csv\")\n",
        "print(df.head())\n",
        "\n",
        "#TASK1\n",
        "print(df.info)\n",
        "\n",
        "#TASK2\n",
        "object_columns = df.select_dtypes(include='object')\n",
        "print(object_columns)\n",
        "\n",
        "print(\"\\nUnique values in columns with dtype=object:\")\n",
        "for col in object_columns:\n",
        "    print(f\"Column: {col}\")\n",
        "    print(df[col].unique())\n",
        "    print(\"-\" * 40)\n",
        "\n",
        "null_values = df.isnull().sum()\n",
        "print(null_values)\n",
        "\n",
        "#TASK 3\n",
        "numeric_df = df.select_dtypes(exclude='object')\n",
        "numeric_df.to_csv('banknumericdata.csv', index=False)\n",
        "print(numeric_df)\n",
        "\n",
        "#TASK4\n",
        "df = pd.read_csv('banknumericdata.csv')\n",
        "summary_statistics = df.describe()\n",
        "print(summary_statistics)"
      ]
    },
    {
      "cell_type": "code",
      "source": [
        "#PROBLEM 2\n",
        "\n",
        "import pandas as pd\n",
        "df = pd.read_csv(\"/content/drive/MyDrive/jupyter/medical_students_dataset.csv\")\n",
        "print(df.head)\n",
        "\n",
        "print(df.info())\n",
        "\n",
        "#TASK 2\n",
        "missing_values = df.isnull().sum()\n",
        "columns_with_missing = missing_values[missing_values > 0]\n",
        "print(\"\\nColumns with missing values:\")\n",
        "print(columns_with_missing)\n",
        "\n",
        "#TASK 3\n",
        "for col in columns_with_missing.index:\n",
        "    print(f\"\\nHandling missing values for column: {col}\")\n",
        "\n",
        "    if df[col].dtype == 'object':  # Categorical columns\n",
        "        # Fill missing values with the mode (most frequent value)\n",
        "        mode_value = df[col].mode()[0]\n",
        "        df[col].fillna(mode_value, inplace=True)\n",
        "        print(f\"Filled with mode: {mode_value}\")\n",
        "\n",
        "    elif df[col].dtype in ['int64', 'float64']:  # Numerical columns\n",
        "        # Check if the column is skewed using the median, otherwise use mean\n",
        "        if df[col].skew() > 1:  # Skewed column\n",
        "            fill_value = df[col].median()\n",
        "            print(f\"Column is skewed. Filled with median: {fill_value}\")\n",
        "        else:\n",
        "            fill_value = df[col].mean()\n",
        "            print(f\"Filled with mean: {fill_value}\")\n",
        "\n",
        "        df[col].fillna(fill_value, inplace=True)\n",
        "\n",
        "# Verify if missing values were handled\n",
        "print(\"\\nMissing values after filling:\")\n",
        "print(df.isnull().sum())\n",
        "\n",
        "\n",
        "#TASK 4\n",
        "duplicate_rows = df.duplicated().sum()\n",
        "print(f\"Total duplicate rows: {duplicate_rows}\")\n",
        "\n",
        "# If there are duplicates, we can remove them\n",
        "if duplicate_rows > 0:\n",
        "    # Remove duplicate rows, keeping the first occurrence\n",
        "    df_cleaned = df.drop_duplicates()\n",
        "    print(f\"Duplicate rows removed. New total rows: {df_cleaned.shape[0]}\")\n",
        "else:\n",
        "    print(\"No duplicate rows found.\")"
      ],
      "metadata": {
        "colab": {
          "base_uri": "https://localhost:8080/"
        },
        "id": "ER41bslBhnbd",
        "outputId": "570007d9-5e04-4ec2-fc11-814fc4dd0be6"
      },
      "execution_count": null,
      "outputs": [
        {
          "output_type": "stream",
          "name": "stdout",
          "text": [
            "<bound method NDFrame.head of        Student ID   Age  Gender      Height     Weight Blood Type        BMI  \\\n",
            "0             1.0  18.0  Female  161.777924  72.354947          O  27.645835   \n",
            "1             2.0   NaN    Male  152.069157  47.630941          B        NaN   \n",
            "2             3.0  32.0  Female  182.537664  55.741083          A  16.729017   \n",
            "3             NaN  30.0    Male  182.112867  63.332207          B  19.096042   \n",
            "4             5.0  23.0  Female         NaN  46.234173          O        NaN   \n",
            "...           ...   ...     ...         ...        ...        ...        ...   \n",
            "87460     87461.0  21.0  Female  178.823613  63.136732          A  19.743874   \n",
            "87461     87462.0  33.0  Female  181.334903  44.650677          A  13.578920   \n",
            "87462     87463.0  34.0    Male  154.612016  85.940007          A        NaN   \n",
            "87463     87464.0  24.0    Male  170.084026  93.435422         AB        NaN   \n",
            "87464     87465.0  21.0  Female  198.010816  97.075100        NaN        NaN   \n",
            "\n",
            "       Temperature  Heart Rate  Blood Pressure  Cholesterol Diabetes Smoking  \n",
            "0              NaN        95.0           109.0        203.0       No     NaN  \n",
            "1        98.714977        93.0           104.0        163.0       No      No  \n",
            "2        98.260293        76.0           130.0        216.0      Yes      No  \n",
            "3        98.839605        99.0           112.0        141.0       No     Yes  \n",
            "4        98.480008        95.0             NaN        231.0       No      No  \n",
            "...            ...         ...             ...          ...      ...     ...  \n",
            "87460    97.983667        65.0           123.0        248.0       No      No  \n",
            "87461    98.832283        99.0           103.0        246.0      NaN     Yes  \n",
            "87462          NaN        77.0            91.0        235.0      NaN      No  \n",
            "87463          NaN         NaN           129.0        140.0       No      No  \n",
            "87464          NaN         NaN             NaN          NaN      NaN     NaN  \n",
            "\n",
            "[87465 rows x 13 columns]>\n",
            "<class 'pandas.core.frame.DataFrame'>\n",
            "RangeIndex: 87465 entries, 0 to 87464\n",
            "Data columns (total 13 columns):\n",
            " #   Column          Non-Null Count  Dtype  \n",
            "---  ------          --------------  -----  \n",
            " 0   Student ID      78746 non-null  float64\n",
            " 1   Age             78789 non-null  float64\n",
            " 2   Gender          78796 non-null  object \n",
            " 3   Height          78693 non-null  float64\n",
            " 4   Weight          78736 non-null  float64\n",
            " 5   Blood Type      78726 non-null  object \n",
            " 6   BMI             78730 non-null  float64\n",
            " 7   Temperature     78648 non-null  float64\n",
            " 8   Heart Rate      78835 non-null  float64\n",
            " 9   Blood Pressure  78696 non-null  float64\n",
            " 10  Cholesterol     78789 non-null  float64\n",
            " 11  Diabetes        78628 non-null  object \n",
            " 12  Smoking         78612 non-null  object \n",
            "dtypes: float64(9), object(4)\n",
            "memory usage: 8.7+ MB\n",
            "None\n",
            "\n",
            "Columns with missing values:\n",
            "Student ID        8719\n",
            "Age               8676\n",
            "Gender            8669\n",
            "Height            8772\n",
            "Weight            8729\n",
            "Blood Type        8739\n",
            "BMI               8735\n",
            "Temperature       8817\n",
            "Heart Rate        8630\n",
            "Blood Pressure    8769\n",
            "Cholesterol       8676\n",
            "Diabetes          8837\n",
            "Smoking           8853\n",
            "dtype: int64\n",
            "\n",
            "Handling missing values for column: Student ID\n",
            "Filled with mean: 43717.47484316664\n",
            "\n",
            "Handling missing values for column: Age\n",
            "Filled with mean: 26.009811014227875\n",
            "\n",
            "Handling missing values for column: Gender\n",
            "Filled with mode: Female\n",
            "\n",
            "Handling missing values for column: Height\n",
            "Filled with mean: 174.95465060019615\n",
            "\n",
            "Handling missing values for column: Weight\n",
            "Filled with mean: 69.9731755021286\n",
            "\n",
            "Handling missing values for column: Blood Type\n",
            "Filled with mode: O\n",
            "\n",
            "Handling missing values for column: BMI\n",
            "Filled with mean: 23.33343317258464\n",
            "\n",
            "Handling missing values for column: Temperature\n",
            "Filled with mean: 98.60021928707063\n",
            "\n",
            "Handling missing values for column: Heart Rate\n",
            "Filled with mean: 79.46988012938415\n",
            "\n",
            "Handling missing values for column: Blood Pressure\n",
            "Filled with mean: 114.56423452272034\n",
            "\n",
            "Handling missing values for column: Cholesterol\n",
            "Filled with mean: 184.484217339984\n",
            "\n",
            "Handling missing values for column: Diabetes\n",
            "Filled with mode: No\n",
            "\n",
            "Handling missing values for column: Smoking\n",
            "Filled with mode: No\n",
            "\n",
            "Missing values after filling:\n",
            "Student ID        0\n",
            "Age               0\n",
            "Gender            0\n",
            "Height            0\n",
            "Weight            0\n",
            "Blood Type        0\n",
            "BMI               0\n",
            "Temperature       0\n",
            "Heart Rate        0\n",
            "Blood Pressure    0\n",
            "Cholesterol       0\n",
            "Diabetes          0\n",
            "Smoking           0\n",
            "dtype: int64\n",
            "Total duplicate rows: 0\n",
            "No duplicate rows found.\n"
          ]
        },
        {
          "output_type": "stream",
          "name": "stderr",
          "text": [
            "<ipython-input-43-6ce7a92e0e18>:34: FutureWarning: A value is trying to be set on a copy of a DataFrame or Series through chained assignment using an inplace method.\n",
            "The behavior will change in pandas 3.0. This inplace method will never work because the intermediate object on which we are setting values always behaves as a copy.\n",
            "\n",
            "For example, when doing 'df[col].method(value, inplace=True)', try using 'df.method({col: value}, inplace=True)' or df[col] = df[col].method(value) instead, to perform the operation inplace on the original object.\n",
            "\n",
            "\n",
            "  df[col].fillna(fill_value, inplace=True)\n",
            "<ipython-input-43-6ce7a92e0e18>:22: FutureWarning: A value is trying to be set on a copy of a DataFrame or Series through chained assignment using an inplace method.\n",
            "The behavior will change in pandas 3.0. This inplace method will never work because the intermediate object on which we are setting values always behaves as a copy.\n",
            "\n",
            "For example, when doing 'df[col].method(value, inplace=True)', try using 'df.method({col: value}, inplace=True)' or df[col] = df[col].method(value) instead, to perform the operation inplace on the original object.\n",
            "\n",
            "\n",
            "  df[col].fillna(mode_value, inplace=True)\n"
          ]
        }
      ]
    },
    {
      "cell_type": "code",
      "source": [
        "#3.2 Exercises - Data Cleaning and Transformations with ”Titanic Dataset”:\n",
        "#Problem 1\n",
        "\n",
        "import pandas as pd\n",
        "df = pd.read_csv(\"/content/drive/MyDrive/jupyter/Titanic-Dataset.csv\")\n",
        "print(df.head)"
      ],
      "metadata": {
        "colab": {
          "base_uri": "https://localhost:8080/"
        },
        "id": "-_bO7IDR5TI2",
        "outputId": "2da18e30-4c99-4435-f018-8caeb97d15c7"
      },
      "execution_count": null,
      "outputs": [
        {
          "output_type": "stream",
          "name": "stdout",
          "text": [
            "<bound method NDFrame.head of      PassengerId  Survived  Pclass  \\\n",
            "0              1         0       3   \n",
            "1              2         1       1   \n",
            "2              3         1       3   \n",
            "3              4         1       1   \n",
            "4              5         0       3   \n",
            "..           ...       ...     ...   \n",
            "886          887         0       2   \n",
            "887          888         1       1   \n",
            "888          889         0       3   \n",
            "889          890         1       1   \n",
            "890          891         0       3   \n",
            "\n",
            "                                                  Name     Sex   Age  SibSp  \\\n",
            "0                              Braund, Mr. Owen Harris    male  22.0      1   \n",
            "1    Cumings, Mrs. John Bradley (Florence Briggs Th...  female  38.0      1   \n",
            "2                               Heikkinen, Miss. Laina  female  26.0      0   \n",
            "3         Futrelle, Mrs. Jacques Heath (Lily May Peel)  female  35.0      1   \n",
            "4                             Allen, Mr. William Henry    male  35.0      0   \n",
            "..                                                 ...     ...   ...    ...   \n",
            "886                              Montvila, Rev. Juozas    male  27.0      0   \n",
            "887                       Graham, Miss. Margaret Edith  female  19.0      0   \n",
            "888           Johnston, Miss. Catherine Helen \"Carrie\"  female   NaN      1   \n",
            "889                              Behr, Mr. Karl Howell    male  26.0      0   \n",
            "890                                Dooley, Mr. Patrick    male  32.0      0   \n",
            "\n",
            "     Parch            Ticket     Fare Cabin Embarked  \n",
            "0        0         A/5 21171   7.2500   NaN        S  \n",
            "1        0          PC 17599  71.2833   C85        C  \n",
            "2        0  STON/O2. 3101282   7.9250   NaN        S  \n",
            "3        0            113803  53.1000  C123        S  \n",
            "4        0            373450   8.0500   NaN        S  \n",
            "..     ...               ...      ...   ...      ...  \n",
            "886      0            211536  13.0000   NaN        S  \n",
            "887      0            112053  30.0000   B42        S  \n",
            "888      2        W./C. 6607  23.4500   NaN        S  \n",
            "889      0            111369  30.0000  C148        C  \n",
            "890      0            370376   7.7500   NaN        Q  \n",
            "\n",
            "[891 rows x 12 columns]>\n"
          ]
        }
      ]
    },
    {
      "cell_type": "code",
      "source": [
        "subset_df = df[['Name', 'Pclass', 'Sex', 'Age', 'Fare', 'Survived']]\n",
        "first_class_df = subset_df[subset_df['Pclass'] == 1]\n",
        "\n",
        "fare_mean = first_class_df['Fare'].mean()\n",
        "fare_median = first_class_df['Fare'].median()\n",
        "fare_max = first_class_df['Fare'].max()\n",
        "fare_min = first_class_df['Fare'].min()\n",
        "\n",
        "fare_mean, fare_median, fare_max, fare_min"
      ],
      "metadata": {
        "colab": {
          "base_uri": "https://localhost:8080/"
        },
        "id": "YmLcieiG6c-I",
        "outputId": "aff12eb0-d443-4824-b0c9-5d0e2473e9a7"
      },
      "execution_count": null,
      "outputs": [
        {
          "output_type": "execute_result",
          "data": {
            "text/plain": [
              "(75.42776666666667, 72.5, 82.5, 71.2833)"
            ]
          },
          "metadata": {},
          "execution_count": 7
        }
      ]
    },
    {
      "cell_type": "code",
      "source": [
        "#Problem 2\n",
        "null_age_count = first_class_df['Age'].isnull().sum()\n",
        "first_class_df_cleaned = first_class_df.dropna(subset=['Age'])\n",
        "null_age_count, first_class_df_cleaned.shape"
      ],
      "metadata": {
        "colab": {
          "base_uri": "https://localhost:8080/"
        },
        "id": "9uadmU4-_V6N",
        "outputId": "a20fa298-1c9a-4335-d194-8e88868a7163"
      },
      "execution_count": null,
      "outputs": [
        {
          "output_type": "execute_result",
          "data": {
            "text/plain": [
              "(0, (3, 6))"
            ]
          },
          "metadata": {},
          "execution_count": 8
        }
      ]
    },
    {
      "cell_type": "code",
      "source": [
        "#PROBLEM 3\n",
        "import pandas as pd\n",
        "df = pd.read_csv('/content/drive/MyDrive/jupyter/Titanic-Dataset.csv')\n",
        "\n",
        "print(\"Unique values in 'Embarked':\", df['Embarked'].unique())\n",
        "print(\"Missing values in 'Embarked':\", df['Embarked'].isnull().sum())\n",
        "\n",
        "mode_embarked = df['Embarked'].mode()[0]\n",
        "df['Embarked'] = df['Embarked'].fillna(mode_embarked)\n",
        "print(\"Missing values after filling:\", df['Embarked'].isnull().sum())\n",
        "\n",
        "\n",
        "port_mapping = {'C': 'Cherbourg', 'Q': 'Queenstown', 'S': 'Southampton'}\n",
        "df['Embarked'] = df['Embarked'].map(port_mapping)\n",
        "print(df['Embarked'].unique())\n",
        "\n",
        "\n",
        "df['Embarked_Code'] = df['Embarked'].map({'Cherbourg': 0, 'Queenstown': 1, 'Southampton': 2})\n",
        "print(df[['Embarked', 'Embarked_Code']].head())\n",
        "\n",
        "df.to_csv('titanic_cleaned.csv', index=False)\n",
        "\n",
        "#TASK1 Perform one-hot encoding on Embarked\n",
        "df_encoded = pd.get_dummies(df, columns=['Embarked'], prefix='Embarked')\n",
        "print(df_encoded.head())\n",
        "df_encoded.to_csv('titanic_encoded.csv', index=False)\n",
        "#TASK2\n",
        "df.to_csv('titanic_with_one_hot_encoding.csv', index=False)\n",
        "#TASK3\n",
        "df = df.drop('Embarked', axis=1)\n",
        "#TASK4\n",
        "print(df.head())"
      ],
      "metadata": {
        "colab": {
          "base_uri": "https://localhost:8080/"
        },
        "id": "KsotkTvVyJpT",
        "outputId": "3feb7e70-3ebf-491c-a389-6a58f2c49744"
      },
      "execution_count": null,
      "outputs": [
        {
          "output_type": "stream",
          "name": "stdout",
          "text": [
            "Unique values in 'Embarked': ['S' 'C' 'Q' nan]\n",
            "Missing values in 'Embarked': 2\n",
            "Missing values after filling: 0\n",
            "['Southampton' 'Cherbourg' 'Queenstown']\n",
            "      Embarked  Embarked_Code\n",
            "0  Southampton              2\n",
            "1    Cherbourg              0\n",
            "2  Southampton              2\n",
            "3  Southampton              2\n",
            "4  Southampton              2\n",
            "   PassengerId  Survived  Pclass  \\\n",
            "0            1         0       3   \n",
            "1            2         1       1   \n",
            "2            3         1       3   \n",
            "3            4         1       1   \n",
            "4            5         0       3   \n",
            "\n",
            "                                                Name     Sex   Age  SibSp  \\\n",
            "0                            Braund, Mr. Owen Harris    male  22.0      1   \n",
            "1  Cumings, Mrs. John Bradley (Florence Briggs Th...  female  38.0      1   \n",
            "2                             Heikkinen, Miss. Laina  female  26.0      0   \n",
            "3       Futrelle, Mrs. Jacques Heath (Lily May Peel)  female  35.0      1   \n",
            "4                           Allen, Mr. William Henry    male  35.0      0   \n",
            "\n",
            "   Parch            Ticket     Fare Cabin  Embarked_Code  Embarked_Cherbourg  \\\n",
            "0      0         A/5 21171   7.2500   NaN              2               False   \n",
            "1      0          PC 17599  71.2833   C85              0                True   \n",
            "2      0  STON/O2. 3101282   7.9250   NaN              2               False   \n",
            "3      0            113803  53.1000  C123              2               False   \n",
            "4      0            373450   8.0500   NaN              2               False   \n",
            "\n",
            "   Embarked_Queenstown  Embarked_Southampton  \n",
            "0                False                  True  \n",
            "1                False                 False  \n",
            "2                False                  True  \n",
            "3                False                  True  \n",
            "4                False                  True  \n",
            "   PassengerId  Survived  Pclass  \\\n",
            "0            1         0       3   \n",
            "1            2         1       1   \n",
            "2            3         1       3   \n",
            "3            4         1       1   \n",
            "4            5         0       3   \n",
            "\n",
            "                                                Name     Sex   Age  SibSp  \\\n",
            "0                            Braund, Mr. Owen Harris    male  22.0      1   \n",
            "1  Cumings, Mrs. John Bradley (Florence Briggs Th...  female  38.0      1   \n",
            "2                             Heikkinen, Miss. Laina  female  26.0      0   \n",
            "3       Futrelle, Mrs. Jacques Heath (Lily May Peel)  female  35.0      1   \n",
            "4                           Allen, Mr. William Henry    male  35.0      0   \n",
            "\n",
            "   Parch            Ticket     Fare Cabin  Embarked_Code  \n",
            "0      0         A/5 21171   7.2500   NaN              2  \n",
            "1      0          PC 17599  71.2833   C85              0  \n",
            "2      0  STON/O2. 3101282   7.9250   NaN              2  \n",
            "3      0            113803  53.1000  C123              2  \n",
            "4      0            373450   8.0500   NaN              2  \n"
          ]
        }
      ]
    },
    {
      "cell_type": "code",
      "source": [
        "#PROBELM 4\n",
        "import pandas as pd\n",
        "import matplotlib.pyplot as plt\n",
        "import seaborn as sns\n",
        "\n",
        "df = pd.read_csv('/content/drive/MyDrive/jupyter/Titanic-Dataset.csv')\n",
        "\n",
        "print(\"Missing values in 'Survived':\", df['Survived'].isnull().sum())\n",
        "print(\"Missing values in 'Sex':\", df['Sex'].isnull().sum())\n",
        "\n",
        "mean_survival_by_gender = df.groupby('Sex')['Survived'].mean()\n",
        "print(\"\\nMean Survival Rates by Gender:\")\n",
        "print(mean_survival_by_gender)\n",
        "\n",
        "plt.figure(figsize=(8, 6))\n",
        "sns.barplot(x='Sex', y='Survived', data=df, palette='pastel', ci=None)\n",
        "\n",
        "plt.title('Mean Survival Rate by Gender', fontsize=16)\n",
        "plt.xlabel('Gender', fontsize=12)\n",
        "plt.ylabel('Survival Rate', fontsize=12)\n",
        "plt.show()\n"
      ],
      "metadata": {
        "colab": {
          "base_uri": "https://localhost:8080/",
          "height": 898
        },
        "id": "E0u6cy9L2grF",
        "outputId": "c217e542-aecc-47bb-ff2f-7f3fce186ba8"
      },
      "execution_count": null,
      "outputs": [
        {
          "output_type": "stream",
          "name": "stdout",
          "text": [
            "Missing values in 'Survived': 0\n",
            "Missing values in 'Sex': 0\n",
            "\n",
            "Mean Survival Rates by Gender:\n",
            "Sex\n",
            "female    0.742038\n",
            "male      0.188908\n",
            "Name: Survived, dtype: float64\n"
          ]
        },
        {
          "output_type": "stream",
          "name": "stderr",
          "text": [
            "<ipython-input-11-8949909bb32a>:16: FutureWarning: \n",
            "\n",
            "The `ci` parameter is deprecated. Use `errorbar=None` for the same effect.\n",
            "\n",
            "  sns.barplot(x='Sex', y='Survived', data=df, palette='pastel', ci=None)\n",
            "<ipython-input-11-8949909bb32a>:16: FutureWarning: \n",
            "\n",
            "Passing `palette` without assigning `hue` is deprecated and will be removed in v0.14.0. Assign the `x` variable to `hue` and set `legend=False` for the same effect.\n",
            "\n",
            "  sns.barplot(x='Sex', y='Survived', data=df, palette='pastel', ci=None)\n"
          ]
        },
        {
          "output_type": "display_data",
          "data": {
            "text/plain": [
              "<Figure size 800x600 with 1 Axes>"
            ],
            "image/png": "[encoded data removed]"
          },
          "metadata": {}
        }
      ]
    },
    {
      "cell_type": "code",
      "source": [
        "import pandas as pd\n",
        "import matplotlib.pyplot as plt\n",
        "import seaborn as sns\n",
        "\n",
        "df = pd.read_csv('/content/drive/MyDrive/jupyter/Titanic-Dataset.csv')\n",
        "\n",
        "df['Embarked'] = df['Embarked'].fillna(df['Embarked'].mode()[0])\n",
        "\n",
        "print(\"Missing values in 'Survived':\", df['Survived'].isnull().sum())\n",
        "print(\"Missing values in 'Sex':\", df['Sex'].isnull().sum())\n",
        "print(\"Missing values in 'Embarked':\", df['Embarked'].isnull().sum())\n",
        "\n",
        "plt.figure(figsize=(10, 6))\n",
        "sns.barplot(\n",
        "    x='Embarked',\n",
        "    y='Survived',\n",
        "    hue='Sex',\n",
        "    data=df,\n",
        "    palette='pastel',\n",
        "    ci=None\n",
        ")\n",
        "\n",
        "plt.title('Survival Rates by Gender and Port of Embarkation', fontsize=16)\n",
        "plt.xlabel('Port of Embarkation', fontsize=12)\n",
        "plt.ylabel('Survival Rate', fontsize=12)\n",
        "plt.legend(title='Gender', loc='upper right')\n",
        "\n",
        "plt.show()\n"
      ],
      "metadata": {
        "colab": {
          "base_uri": "https://localhost:8080/",
          "height": 716
        },
        "id": "jfaIVqaJ2-4K",
        "outputId": "3ab8374d-0538-42f8-d24f-891d435725ea"
      },
      "execution_count": null,
      "outputs": [
        {
          "output_type": "stream",
          "name": "stdout",
          "text": [
            "Missing values in 'Survived': 0\n",
            "Missing values in 'Sex': 0\n",
            "Missing values in 'Embarked': 0\n"
          ]
        },
        {
          "output_type": "stream",
          "name": "stderr",
          "text": [
            "<ipython-input-12-a217057f1708>:14: FutureWarning: \n",
            "\n",
            "The `ci` parameter is deprecated. Use `errorbar=None` for the same effect.\n",
            "\n",
            "  sns.barplot(\n"
          ]
        },
        {
          "output_type": "display_data",
          "data": {
            "text/plain": [
              "<Figure size 1000x600 with 1 Axes>"
            ],
            "image/png": "[encoded data removed]"
          },
          "metadata": {}
        }
      ]
    }
  ]
}